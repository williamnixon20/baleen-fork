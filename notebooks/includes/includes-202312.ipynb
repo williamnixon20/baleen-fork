{
 "cells": [
  {
   "cell_type": "code",
   "execution_count": null,
   "id": "5f9c44f4-2df0-4f40-9ff5-b63aa4fbd315",
   "metadata": {},
   "outputs": [],
   "source": [
    "import datetime\n",
    "import platform; print(platform.python_implementation(), datetime.datetime.now().isoformat())\n",
    "_exp = 'UNDEFINED'"
   ]
  },
  {
   "cell_type": "code",
   "execution_count": null,
   "id": "ddb60874-28c5-496d-bb32-c0c930336fd5",
   "metadata": {},
   "outputs": [],
   "source": [
    "import sys\n",
    "sys.path.append('../..')\n",
    "from BCacheSim import cachesim\n",
    "from BCacheSim import episodic_analysis\n",
    "from BCacheSim.cachesim.sim_cache import _lookup_episode\n",
    "from BCacheSim.cachesim.sim_cache import Timestamp"
   ]
  },
  {
   "cell_type": "code",
   "execution_count": null,
   "id": "cb6f94d6-f93a-451b-b9da-7628c12abad2",
   "metadata": {},
   "outputs": [],
   "source": [
    "import pickle\n",
    "import glob\n",
    "import random\n",
    "from tqdm.notebook import tqdm\n",
    "# import lightgbm as lgb\n",
    "import matplotlib.pyplot as plt\n",
    "import pandas as pd\n",
    "import numpy as np\n",
    "import seaborn as sns\n",
    "\n",
    "import BCacheSim.cachesim.dynamic_features as dfeature\n",
    "import BCacheSim.cachesim.utils as utils\n",
    "# try:\n",
    "#     from sklearn.metrics import r2_score, roc_curve, precision_recall_curve, auc\n",
    "# except (ModuleNotFoundError, ImportError):\n",
    "#     print(\"Cannot import sklearn\")\n",
    "from collections import Counter\n",
    "import time\n",
    "import traceback"
   ]
  },
  {
   "cell_type": "code",
   "execution_count": null,
   "id": "d28d5457-c40a-4868-8248-0c96621c8f52",
   "metadata": {},
   "outputs": [],
   "source": [
    "from pprint import pprint"
   ]
  },
  {
   "cell_type": "code",
   "execution_count": null,
   "id": "b48a53c9-d8b6-4cf5-aa07-41518152c9e1",
   "metadata": {},
   "outputs": [],
   "source": [
    "from BCacheSim.episodic_analysis import experiments\n",
    "from BCacheSim.episodic_analysis import local_cluster\n",
    "from BCacheSim.episodic_analysis import ep_utils\n",
    "from BCacheSim.episodic_analysis import episodes\n",
    "from BCacheSim.episodic_analysis.episodes import Episode\n",
    "from BCacheSim.episodic_analysis import trace_utils\n",
    "from BCacheSim.episodic_analysis import policies\n",
    "from BCacheSim.episodic_analysis.exps import factory as ef\n",
    "from BCacheSim.episodic_analysis import monitor_exps as monitor\n",
    "from BCacheSim.episodic_analysis.ep_utils import flatten\n",
    "from BCacheSim.episodic_analysis.plotting import maps\n",
    "from BCacheSim.episodic_analysis import adaptors\n",
    "from BCacheSim.episodic_analysis.exps import results"
   ]
  },
  {
   "cell_type": "code",
   "execution_count": null,
   "id": "bff6b490-c8ee-48c3-9bf6-05c6e649e1e3",
   "metadata": {},
   "outputs": [],
   "source": [
    "result_cols = ['AP Threshold', 'Avg Eviction Age (s)', 'Write Rate (MB/s)', 'ServiceTimeSavedRatio', 'ServiceTimeSavedRatio1', 'IOPSSavedRatio']"
   ]
  },
  {
   "cell_type": "code",
   "execution_count": null,
   "id": "af3d845d-5f71-4808-968e-9806b3b45ad0",
   "metadata": {},
   "outputs": [],
   "source": [
    "from IPython.display import display, HTML\n",
    "display(HTML(\"<style>.container { width:100% !important; }</style>\"))"
   ]
  },
  {
   "cell_type": "code",
   "execution_count": null,
   "id": "ca27e9d7-7f78-4cac-806c-b9f762ed3069",
   "metadata": {},
   "outputs": [],
   "source": [
    "from importlib import reload\n",
    "reload(monitor)\n",
    "filter_df = monitor.filter_df_dct"
   ]
  },
  {
   "cell_type": "code",
   "execution_count": null,
   "id": "50dfc95c-ea5d-424d-a545-43fb8c9b9ed6",
   "metadata": {},
   "outputs": [],
   "source": [
    "import pandas as pd\n",
    "# import seaborn as sns\n",
    "import os\n",
    "os.environ['SOURCE_DATE_EPOCH'] = '1631030919'\n",
    "pd.set_option('display.max_rows', 500)\n",
    "pd.set_option('display.max_columns', 500)\n",
    "pd.set_option('display.width', 1000)\n",
    "pd.set_option('display.max_colwidth', None)\n",
    "import matplotlib.pyplot as plt"
   ]
  },
  {
   "cell_type": "code",
   "execution_count": null,
   "id": "a08b29eb-6402-4e9d-a057-d5bae3776486",
   "metadata": {},
   "outputs": [],
   "source": [
    "from BCacheSim.episodic_analysis.plotting import maps\n",
    "from BCacheSim.episodic_analysis.plotting.maps import add_fig_label\n",
    "from BCacheSim.episodic_analysis.monitor_exps import filter_df_dct\n",
    "filter_df = filter_df_dct\n",
    "# add_fig_label, etc is inside\n",
    "from BCacheSim.episodic_analysis.plotting import contexts\n",
    "from BCacheSim.episodic_analysis.plotting import styles\n",
    "contexts.use('wide')\n",
    "# Used by results\n",
    "from BCacheSim.episodic_analysis.plotting import loader\n",
    "from BCacheSim.episodic_analysis.plotting import processors"
   ]
  },
  {
   "cell_type": "code",
   "execution_count": null,
   "id": "0aa35488-97f6-4107-8f72-cda89eaedd1b",
   "metadata": {},
   "outputs": [],
   "source": [
    "COLS = [\n",
    "    'ShortLabel',\n",
    "    'RegionLabel',\n",
    "    maps.l_wr,\n",
    "    'P100ServiceTimeUtil@10m',\n",
    "    'P99.9ServiceTimePercent1',\n",
    "    'P99.9ServiceTimeUtil@10m',\n",
    "    'P99ServiceTimeUtil@10m',\n",
    "    'P50ServiceTimeUtil@10m',\n",
    "    'AP Threshold',\n",
    "    'Assumed Eviction Age (s)',\n",
    "    'Converged',\n",
    "    'Iteration',\n",
    "    'SampleStart',\n",
    "    'SampleRatio',\n",
    "    'Trace',\n",
    "    'ExperimentName',\n",
    "    'Filename',\n",
    "]"
   ]
  },
  {
   "cell_type": "code",
   "execution_count": null,
   "id": "19e7bdd3-14c4-4fb2-807e-4d483211615a",
   "metadata": {},
   "outputs": [],
   "source": [
    "savefig = maps.savefig"
   ]
  },
  {
   "cell_type": "code",
   "execution_count": null,
   "id": "2484c20c-ee6d-48f0-a9fe-94c980374f90",
   "metadata": {},
   "outputs": [],
   "source": [
    "def load_df(filename):\n",
    "    dfc_raw_old = pd.read_csv(filename, low_memory=False)\n",
    "    dfc_raw_old['Target Write Rate'] = pd.to_numeric(dfc_raw_old['Target Write Rate'], errors='coerce')\n",
    "    dfc_raw_old['TraceGroup'] = dfc_raw_old['TraceGroup'].astype('str')\n",
    "    return dfc_raw_old\n",
    "\n",
    "def combine_dfs(*args):\n",
    "    return pd.concat(args).copy()\n",
    "\n",
    "def combine_with_old(filename, dfc_raw_):\n",
    "    return combine_dfs(load_df(filename), df_raw_)"
   ]
  }
 ],
 "metadata": {
  "kernelspec": {
   "display_name": "CPython 3.11 (CacheLib, Conda)",
   "language": "python",
   "name": "cachelib-py-3.11"
  },
  "language_info": {
   "codemirror_mode": {
    "name": "ipython",
    "version": 3
   },
   "file_extension": ".py",
   "mimetype": "text/x-python",
   "name": "python",
   "nbconvert_exporter": "python",
   "pygments_lexer": "ipython3",
   "version": "3.11.0"
  }
 },
 "nbformat": 4,
 "nbformat_minor": 5
}
