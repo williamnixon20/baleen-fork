{
 "cells": [
  {
   "cell_type": "markdown",
   "id": "0ba3759e-2cb5-43d7-b252-72ca3ae0cc91",
   "metadata": {},
   "source": [
    "## Note\n",
    "This notebook can take a while to run. Actual graphs in paper also use a higher %."
   ]
  },
  {
   "cell_type": "code",
   "execution_count": 1,
   "id": "0c102147-1579-4833-a262-e5aad6a2e439",
   "metadata": {
    "tags": []
   },
   "outputs": [
    {
     "name": "stdout",
     "output_type": "stream",
     "text": [
      "CPython 2024-01-15T08:21:06.818436\n"
     ]
    },
    {
     "data": {
      "text/html": [
       "<style>.container { width:100% !important; }</style>"
      ],
      "text/plain": [
       "<IPython.core.display.HTML object>"
      ]
     },
     "metadata": {},
     "output_type": "display_data"
    },
    {
     "name": "stdout",
     "output_type": "stream",
     "text": [
      "CPU times: user 89 µs, sys: 268 µs, total: 357 µs\n",
      "Wall time: 369 µs\n"
     ]
    }
   ],
   "source": [
    "%run ../includes/common-20230414.ipynb"
   ]
  },
  {
   "cell_type": "code",
   "execution_count": 2,
   "id": "1df47f6c-d477-426c-b662-cde91867aa82",
   "metadata": {
    "tags": []
   },
   "outputs": [
    {
     "name": "stdout",
     "output_type": "stream",
     "text": [
      "9065\n"
     ]
    },
    {
     "name": "stderr",
     "output_type": "stream",
     "text": [
      "/tmp/ipykernel_38524/3317348687.py:14: PerformanceWarning: dropping on a non-lexsorted multi-index without a level parameter may impact performance.\n",
      "  best_pf_option_ = best_pf_option.idxmin(skipna=skipna)\n",
      "/tmp/ipykernel_38524/3317348687.py:14: PerformanceWarning: dropping on a non-lexsorted multi-index without a level parameter may impact performance.\n",
      "  best_pf_option_ = best_pf_option.idxmin(skipna=skipna)\n"
     ]
    }
   ],
   "source": [
    "dfs = get_data()"
   ]
  },
  {
   "cell_type": "code",
   "execution_count": 3,
   "id": "6ecd2132-e33c-424d-8a2a-fd1267a00be4",
   "metadata": {
    "tags": []
   },
   "outputs": [
    {
     "data": {
      "text/plain": [
       "14"
      ]
     },
     "execution_count": 3,
     "metadata": {},
     "output_type": "execute_result"
    }
   ],
   "source": [
    "df_ = monitor.filter_df_dct(dfs['raw'], {'AdmissionPolicy':'OfflineAnalysis','SampleStart': 0, 'Target DWPD': 7.5})\n",
    "len(df_)"
   ]
  },
  {
   "cell_type": "code",
   "execution_count": 4,
   "id": "addfdc61-d6d4-45bd-bacb-85bb858a506b",
   "metadata": {
    "tags": []
   },
   "outputs": [],
   "source": [
    "d_converged = filter_df(dfs['exp'], {'Target DWPD': 7.5, 'CanonAP': True, 'RealAP': True, 'ShortLabel': 'Baleen (ML Prefetch)'})"
   ]
  },
  {
   "cell_type": "code",
   "execution_count": 5,
   "id": "72827e08-dd15-4e6a-9689-9698ff8e69ea",
   "metadata": {
    "tags": []
   },
   "outputs": [],
   "source": [
    "converged_eas_ml = d_converged.groupby(\"Region\")[\"Avg Eviction Age (s)\"].mean().to_dict()"
   ]
  },
  {
   "cell_type": "code",
   "execution_count": 6,
   "id": "37901b84-37ca-47ea-a236-2201502c123b",
   "metadata": {
    "tags": []
   },
   "outputs": [],
   "source": [
    "# sample_ratio = 1\n",
    "# Actual graphs in paper use 1%\n",
    "sample_ratio = .1\n",
    "regions = [\n",
    "    '201910/Region1',\n",
    "    '201910/Region2',\n",
    "    '201910/Region3',\n",
    "    '202110/Region4',\n",
    "    '20230325/Region5',\n",
    "    '20230325/Region6',\n",
    "    '20230325/Region7',\n",
    "]"
   ]
  },
  {
   "cell_type": "code",
   "execution_count": 7,
   "id": "d12ec232-c099-442b-bcf1-c1500b642232",
   "metadata": {
    "tags": []
   },
   "outputs": [],
   "source": [
    "local_cluster.TRACE_LOCATION = '../../data/tectonic'"
   ]
  },
  {
   "cell_type": "code",
   "execution_count": 8,
   "id": "e376cc09-8e7b-4faf-bf64-828985f23216",
   "metadata": {
    "tags": []
   },
   "outputs": [
    {
     "data": {
      "application/vnd.jupyter.widget-view+json": {
       "model_id": "d8bdf937216646d89427c785323f8ea0",
       "version_major": 2,
       "version_minor": 0
      },
      "text/plain": [
       "  0%|          | 0/7 [00:00<?, ?it/s]"
      ]
     },
     "metadata": {},
     "output_type": "display_data"
    },
    {
     "name": "stdout",
     "output_type": "stream",
     "text": [
      "Reading from file ../../data/tectonic/201910/Region1/full_0_0.1.trace\n",
      "Reading from file ../../data/tectonic/201910/Region2/full_0_0.1.trace\n",
      "Reading from file ../../data/tectonic/201910/Region3/full_0_0.1.trace\n",
      "Reading from file ../../data/tectonic/202110/Region4/full_0_0.1.trace\n",
      "Reading from file ../../data/tectonic/20230325/Region5/full_0_0.1.trace\n",
      "Reading from file ../../data/tectonic/20230325/Region6/full_0_0.1.trace\n",
      "Reading from file ../../data/tectonic/20230325/Region7/full_0_0.1.trace\n",
      "CPU times: user 19.1 s, sys: 539 ms, total: 19.6 s\n",
      "Wall time: 19.5 s\n"
     ]
    }
   ],
   "source": [
    "%%time\n",
    "import traceback\n",
    "all_traces = {}\n",
    "for kk in tqdm(regions):\n",
    "    trace_group, region = kk.split('/')\n",
    "    _trace_kwargs = dict(region=region, trace_group=trace_group, sample_ratio=sample_ratio, get_features=True, only_gets=False)\n",
    "    try:\n",
    "        all_traces[region] = trace_utils.get_accesses_kv(**_trace_kwargs)\n",
    "    except:\n",
    "        traceback.print_exc()"
   ]
  },
  {
   "cell_type": "code",
   "execution_count": 9,
   "id": "e27a0067-14c1-4460-9947-13927f29db57",
   "metadata": {
    "tags": []
   },
   "outputs": [],
   "source": [
    "region_labels = maps.region_labels"
   ]
  },
  {
   "cell_type": "code",
   "execution_count": 10,
   "id": "e52abafd-49be-4f99-8cef-5d3c80dc6edf",
   "metadata": {},
   "outputs": [
    {
     "data": {
      "text/html": [
       "<div>\n",
       "<style scoped>\n",
       "    .dataframe tbody tr th:only-of-type {\n",
       "        vertical-align: middle;\n",
       "    }\n",
       "\n",
       "    .dataframe tbody tr th {\n",
       "        vertical-align: top;\n",
       "    }\n",
       "\n",
       "    .dataframe thead th {\n",
       "        text-align: right;\n",
       "    }\n",
       "</style>\n",
       "<table border=\"1\" class=\"dataframe\">\n",
       "  <thead>\n",
       "    <tr style=\"text-align: right;\">\n",
       "      <th></th>\n",
       "      <th>0</th>\n",
       "      <th>1</th>\n",
       "      <th>2</th>\n",
       "      <th>3</th>\n",
       "      <th>4</th>\n",
       "      <th>5</th>\n",
       "      <th>6</th>\n",
       "    </tr>\n",
       "  </thead>\n",
       "  <tbody>\n",
       "    <tr>\n",
       "      <th>region</th>\n",
       "      <td>Region1</td>\n",
       "      <td>Region2</td>\n",
       "      <td>Region3</td>\n",
       "      <td>Region4</td>\n",
       "      <td>Region5</td>\n",
       "      <td>Region6</td>\n",
       "      <td>Region7</td>\n",
       "    </tr>\n",
       "    <tr>\n",
       "      <th>obj_u</th>\n",
       "      <td>25428</td>\n",
       "      <td>9878</td>\n",
       "      <td>23341</td>\n",
       "      <td>29819</td>\n",
       "      <td>45703</td>\n",
       "      <td>38905</td>\n",
       "      <td>57311</td>\n",
       "    </tr>\n",
       "    <tr>\n",
       "      <th>acc/obj_u</th>\n",
       "      <td>5.01</td>\n",
       "      <td>4.01</td>\n",
       "      <td>1.74</td>\n",
       "      <td>17.91</td>\n",
       "      <td>4.72</td>\n",
       "      <td>6.18</td>\n",
       "      <td>4.31</td>\n",
       "    </tr>\n",
       "    <tr>\n",
       "      <th>acc/day_u</th>\n",
       "      <td>18,186.43</td>\n",
       "      <td>9,911.00</td>\n",
       "      <td>5,809.00</td>\n",
       "      <td>76,310.29</td>\n",
       "      <td>31,259.28</td>\n",
       "      <td>34,843.77</td>\n",
       "      <td>35,835.36</td>\n",
       "    </tr>\n",
       "    <tr>\n",
       "      <th>acc/min_u</th>\n",
       "      <td>12.63</td>\n",
       "      <td>6.91</td>\n",
       "      <td>4.05</td>\n",
       "      <td>52.99</td>\n",
       "      <td>21.65</td>\n",
       "      <td>24.14</td>\n",
       "      <td>24.82</td>\n",
       "    </tr>\n",
       "    <tr>\n",
       "      <th>acc/s_u</th>\n",
       "      <td>0.21</td>\n",
       "      <td>0.12</td>\n",
       "      <td>0.07</td>\n",
       "      <td>0.88</td>\n",
       "      <td>0.36</td>\n",
       "      <td>0.40</td>\n",
       "      <td>0.41</td>\n",
       "    </tr>\n",
       "    <tr>\n",
       "      <th>acc_u</th>\n",
       "      <td>147794</td>\n",
       "      <td>48734</td>\n",
       "      <td>62372</td>\n",
       "      <td>555643</td>\n",
       "      <td>239146</td>\n",
       "      <td>268156</td>\n",
       "      <td>288539</td>\n",
       "    </tr>\n",
       "    <tr>\n",
       "      <th>put_u</th>\n",
       "      <td>20489</td>\n",
       "      <td>9090</td>\n",
       "      <td>21709</td>\n",
       "      <td>21471</td>\n",
       "      <td>23457</td>\n",
       "      <td>27734</td>\n",
       "      <td>41275</td>\n",
       "    </tr>\n",
       "    <tr>\n",
       "      <th>putone_u</th>\n",
       "      <td>20489</td>\n",
       "      <td>9090</td>\n",
       "      <td>21709</td>\n",
       "      <td>21462</td>\n",
       "      <td>23457</td>\n",
       "      <td>25817</td>\n",
       "      <td>37315</td>\n",
       "    </tr>\n",
       "    <tr>\n",
       "      <th>nogets_u</th>\n",
       "      <td>11740</td>\n",
       "      <td>4545</td>\n",
       "      <td>18900</td>\n",
       "      <td>11841</td>\n",
       "      <td>15066</td>\n",
       "      <td>14614</td>\n",
       "      <td>21498</td>\n",
       "    </tr>\n",
       "    <tr>\n",
       "      <th>days</th>\n",
       "      <td>7.00</td>\n",
       "      <td>4.00</td>\n",
       "      <td>7.00</td>\n",
       "      <td>7.00</td>\n",
       "      <td>6.90</td>\n",
       "      <td>6.90</td>\n",
       "      <td>6.90</td>\n",
       "    </tr>\n",
       "    <tr>\n",
       "      <th>start</th>\n",
       "      <td>2019-10-26 Sat 07:21:01</td>\n",
       "      <td>2019-09-13 Fri 04:50:12</td>\n",
       "      <td>2019-10-26 Sat 08:10:12</td>\n",
       "      <td>2021-10-05 Tue 06:59:01</td>\n",
       "      <td>2023-03-19 Sun 06:58:20</td>\n",
       "      <td>2023-03-19 Sun 06:58:11</td>\n",
       "      <td>2023-03-19 Sun 06:58:26</td>\n",
       "    </tr>\n",
       "    <tr>\n",
       "      <th>end</th>\n",
       "      <td>2019-11-02 Sat 07:18:23</td>\n",
       "      <td>2019-09-17 Tue 04:26:44</td>\n",
       "      <td>2019-11-02 Sat 07:35:38</td>\n",
       "      <td>2021-10-12 Tue 06:59:38</td>\n",
       "      <td>2023-03-26 Sun 04:59:52</td>\n",
       "      <td>2023-03-26 Sun 04:59:07</td>\n",
       "      <td>2023-03-26 Sun 04:59:11</td>\n",
       "    </tr>\n",
       "    <tr>\n",
       "      <th>avg_acc_size</th>\n",
       "      <td>27.33</td>\n",
       "      <td>20.41</td>\n",
       "      <td>22.04</td>\n",
       "      <td>28.70</td>\n",
       "      <td>21.67</td>\n",
       "      <td>22.37</td>\n",
       "      <td>19.83</td>\n",
       "    </tr>\n",
       "    <tr>\n",
       "      <th>avg_acc_size_MB</th>\n",
       "      <td>3.42</td>\n",
       "      <td>2.55</td>\n",
       "      <td>2.75</td>\n",
       "      <td>3.59</td>\n",
       "      <td>2.71</td>\n",
       "      <td>2.80</td>\n",
       "      <td>2.48</td>\n",
       "    </tr>\n",
       "    <tr>\n",
       "      <th>avg_obj_start_MB</th>\n",
       "      <td>0.02</td>\n",
       "      <td>0.02</td>\n",
       "      <td>0.01</td>\n",
       "      <td>0.04</td>\n",
       "      <td>0.16</td>\n",
       "      <td>0.10</td>\n",
       "      <td>0.09</td>\n",
       "    </tr>\n",
       "    <tr>\n",
       "      <th>avg_obj_size_MB</th>\n",
       "      <td>5.72</td>\n",
       "      <td>6.72</td>\n",
       "      <td>5.08</td>\n",
       "      <td>5.84</td>\n",
       "      <td>6.68</td>\n",
       "      <td>6.65</td>\n",
       "      <td>5.65</td>\n",
       "    </tr>\n",
       "    <tr>\n",
       "      <th>avg_obj_end_MB</th>\n",
       "      <td>5.74</td>\n",
       "      <td>6.74</td>\n",
       "      <td>5.09</td>\n",
       "      <td>5.88</td>\n",
       "      <td>6.85</td>\n",
       "      <td>6.76</td>\n",
       "      <td>5.74</td>\n",
       "    </tr>\n",
       "    <tr>\n",
       "      <th>bw_MB/s_u</th>\n",
       "      <td>0.83</td>\n",
       "      <td>0.36</td>\n",
       "      <td>0.29</td>\n",
       "      <td>3.30</td>\n",
       "      <td>1.08</td>\n",
       "      <td>1.25</td>\n",
       "      <td>1.20</td>\n",
       "    </tr>\n",
       "    <tr>\n",
       "      <th>bwperhdd_MB/s_u</th>\n",
       "      <td>0.02</td>\n",
       "      <td>0.01</td>\n",
       "      <td>0.01</td>\n",
       "      <td>0.09</td>\n",
       "      <td>0.03</td>\n",
       "      <td>0.03</td>\n",
       "      <td>0.03</td>\n",
       "    </tr>\n",
       "    <tr>\n",
       "      <th>compulsory_miss_rate_withpf</th>\n",
       "      <td>0.17</td>\n",
       "      <td>0.20</td>\n",
       "      <td>0.37</td>\n",
       "      <td>0.05</td>\n",
       "      <td>0.19</td>\n",
       "      <td>0.15</td>\n",
       "      <td>0.20</td>\n",
       "    </tr>\n",
       "    <tr>\n",
       "      <th>one_hit_wonder</th>\n",
       "      <td>0.61</td>\n",
       "      <td>0.55</td>\n",
       "      <td>0.87</td>\n",
       "      <td>0.53</td>\n",
       "      <td>0.59</td>\n",
       "      <td>0.55</td>\n",
       "      <td>0.62</td>\n",
       "    </tr>\n",
       "    <tr>\n",
       "      <th>put/obj</th>\n",
       "      <td>0.81</td>\n",
       "      <td>0.92</td>\n",
       "      <td>0.93</td>\n",
       "      <td>0.72</td>\n",
       "      <td>0.51</td>\n",
       "      <td>0.71</td>\n",
       "      <td>0.72</td>\n",
       "    </tr>\n",
       "    <tr>\n",
       "      <th>put/acc</th>\n",
       "      <td>0.14</td>\n",
       "      <td>0.19</td>\n",
       "      <td>0.35</td>\n",
       "      <td>0.04</td>\n",
       "      <td>0.10</td>\n",
       "      <td>0.10</td>\n",
       "      <td>0.14</td>\n",
       "    </tr>\n",
       "    <tr>\n",
       "      <th>putone/obj</th>\n",
       "      <td>0.81</td>\n",
       "      <td>0.92</td>\n",
       "      <td>0.93</td>\n",
       "      <td>0.72</td>\n",
       "      <td>0.51</td>\n",
       "      <td>0.66</td>\n",
       "      <td>0.65</td>\n",
       "    </tr>\n",
       "    <tr>\n",
       "      <th>nogets/obj</th>\n",
       "      <td>0.46</td>\n",
       "      <td>0.46</td>\n",
       "      <td>0.81</td>\n",
       "      <td>0.40</td>\n",
       "      <td>0.33</td>\n",
       "      <td>0.38</td>\n",
       "      <td>0.38</td>\n",
       "    </tr>\n",
       "    <tr>\n",
       "      <th>obj_us</th>\n",
       "      <td>25,428,000.00</td>\n",
       "      <td>9,878,000.00</td>\n",
       "      <td>23,341,000.00</td>\n",
       "      <td>29,819,000.00</td>\n",
       "      <td>45,703,000.00</td>\n",
       "      <td>38,905,000.00</td>\n",
       "      <td>57,311,000.00</td>\n",
       "    </tr>\n",
       "    <tr>\n",
       "      <th>acc/obj_us</th>\n",
       "      <td>5,006.49</td>\n",
       "      <td>4,013.36</td>\n",
       "      <td>1,742.13</td>\n",
       "      <td>17,913.81</td>\n",
       "      <td>4,719.36</td>\n",
       "      <td>6,179.72</td>\n",
       "      <td>4,314.42</td>\n",
       "    </tr>\n",
       "    <tr>\n",
       "      <th>acc/day_us</th>\n",
       "      <td>18,186,428.57</td>\n",
       "      <td>9,911,000.00</td>\n",
       "      <td>5,809,000.00</td>\n",
       "      <td>76,310,285.71</td>\n",
       "      <td>31,259,275.36</td>\n",
       "      <td>34,843,768.12</td>\n",
       "      <td>35,835,362.32</td>\n",
       "    </tr>\n",
       "    <tr>\n",
       "      <th>acc/min_us</th>\n",
       "      <td>12,632.76</td>\n",
       "      <td>6,910.81</td>\n",
       "      <td>4,047.91</td>\n",
       "      <td>52,990.01</td>\n",
       "      <td>21,652.19</td>\n",
       "      <td>24,136.49</td>\n",
       "      <td>24,823.83</td>\n",
       "    </tr>\n",
       "    <tr>\n",
       "      <th>acc/s_us</th>\n",
       "      <td>210.55</td>\n",
       "      <td>115.18</td>\n",
       "      <td>67.47</td>\n",
       "      <td>883.17</td>\n",
       "      <td>360.87</td>\n",
       "      <td>402.27</td>\n",
       "      <td>413.73</td>\n",
       "    </tr>\n",
       "    <tr>\n",
       "      <th>acc_us</th>\n",
       "      <td>147,794,000.00</td>\n",
       "      <td>48,734,000.00</td>\n",
       "      <td>62,372,000.00</td>\n",
       "      <td>555,643,000.00</td>\n",
       "      <td>239,146,000.00</td>\n",
       "      <td>268,156,000.00</td>\n",
       "      <td>288,539,000.00</td>\n",
       "    </tr>\n",
       "    <tr>\n",
       "      <th>put_us</th>\n",
       "      <td>20,489,000.00</td>\n",
       "      <td>9,090,000.00</td>\n",
       "      <td>21,709,000.00</td>\n",
       "      <td>21,471,000.00</td>\n",
       "      <td>23,457,000.00</td>\n",
       "      <td>27,734,000.00</td>\n",
       "      <td>41,275,000.00</td>\n",
       "    </tr>\n",
       "    <tr>\n",
       "      <th>putone_us</th>\n",
       "      <td>20,489,000.00</td>\n",
       "      <td>9,090,000.00</td>\n",
       "      <td>21,709,000.00</td>\n",
       "      <td>21,462,000.00</td>\n",
       "      <td>23,457,000.00</td>\n",
       "      <td>25,817,000.00</td>\n",
       "      <td>37,315,000.00</td>\n",
       "    </tr>\n",
       "    <tr>\n",
       "      <th>nogets_us</th>\n",
       "      <td>11,740,000.00</td>\n",
       "      <td>4,545,000.00</td>\n",
       "      <td>18,900,000.00</td>\n",
       "      <td>11,841,000.00</td>\n",
       "      <td>15,066,000.00</td>\n",
       "      <td>14,614,000.00</td>\n",
       "      <td>21,498,000.00</td>\n",
       "    </tr>\n",
       "    <tr>\n",
       "      <th>bw_MB/s_us</th>\n",
       "      <td>834.93</td>\n",
       "      <td>361.25</td>\n",
       "      <td>285.07</td>\n",
       "      <td>3,295.62</td>\n",
       "      <td>1,083.91</td>\n",
       "      <td>1,254.63</td>\n",
       "      <td>1,196.51</td>\n",
       "    </tr>\n",
       "    <tr>\n",
       "      <th>bwperhdd_MB/s_us</th>\n",
       "      <td>23.19</td>\n",
       "      <td>10.03</td>\n",
       "      <td>7.92</td>\n",
       "      <td>91.55</td>\n",
       "      <td>30.11</td>\n",
       "      <td>34.85</td>\n",
       "      <td>33.24</td>\n",
       "    </tr>\n",
       "    <tr>\n",
       "      <th>backend_size_TB_obj</th>\n",
       "      <td>973.81</td>\n",
       "      <td>378.29</td>\n",
       "      <td>893.88</td>\n",
       "      <td>1,141.97</td>\n",
       "      <td>1,750.27</td>\n",
       "      <td>1,489.93</td>\n",
       "      <td>2,194.81</td>\n",
       "    </tr>\n",
       "    <tr>\n",
       "      <th>backend_size_TB_acc</th>\n",
       "      <td>117.96</td>\n",
       "      <td>53.80</td>\n",
       "      <td>96.24</td>\n",
       "      <td>141.13</td>\n",
       "      <td>247.74</td>\n",
       "      <td>209.99</td>\n",
       "      <td>262.80</td>\n",
       "    </tr>\n",
       "    <tr>\n",
       "      <th>backend_size_TB_accends</th>\n",
       "      <td>118.47</td>\n",
       "      <td>53.98</td>\n",
       "      <td>96.41</td>\n",
       "      <td>142.18</td>\n",
       "      <td>253.84</td>\n",
       "      <td>213.23</td>\n",
       "      <td>267.00</td>\n",
       "    </tr>\n",
       "    <tr>\n",
       "      <th>drive_size_TB_obj</th>\n",
       "      <td>27.05</td>\n",
       "      <td>10.51</td>\n",
       "      <td>24.83</td>\n",
       "      <td>31.72</td>\n",
       "      <td>48.62</td>\n",
       "      <td>41.39</td>\n",
       "      <td>60.97</td>\n",
       "    </tr>\n",
       "    <tr>\n",
       "      <th>drive_size_TB_acc</th>\n",
       "      <td>3.28</td>\n",
       "      <td>1.49</td>\n",
       "      <td>2.67</td>\n",
       "      <td>3.92</td>\n",
       "      <td>6.88</td>\n",
       "      <td>5.83</td>\n",
       "      <td>7.30</td>\n",
       "    </tr>\n",
       "    <tr>\n",
       "      <th>drive_size_TB_accends</th>\n",
       "      <td>3.29</td>\n",
       "      <td>1.50</td>\n",
       "      <td>2.68</td>\n",
       "      <td>3.95</td>\n",
       "      <td>7.05</td>\n",
       "      <td>5.92</td>\n",
       "      <td>7.42</td>\n",
       "    </tr>\n",
       "  </tbody>\n",
       "</table>\n",
       "</div>"
      ],
      "text/plain": [
       "                                                   0                        1                        2                        3                        4                        5                        6\n",
       "region                                       Region1                  Region2                  Region3                  Region4                  Region5                  Region6                  Region7\n",
       "obj_u                                          25428                     9878                    23341                    29819                    45703                    38905                    57311\n",
       "acc/obj_u                                       5.01                     4.01                     1.74                    17.91                     4.72                     6.18                     4.31\n",
       "acc/day_u                                  18,186.43                 9,911.00                 5,809.00                76,310.29                31,259.28                34,843.77                35,835.36\n",
       "acc/min_u                                      12.63                     6.91                     4.05                    52.99                    21.65                    24.14                    24.82\n",
       "acc/s_u                                         0.21                     0.12                     0.07                     0.88                     0.36                     0.40                     0.41\n",
       "acc_u                                         147794                    48734                    62372                   555643                   239146                   268156                   288539\n",
       "put_u                                          20489                     9090                    21709                    21471                    23457                    27734                    41275\n",
       "putone_u                                       20489                     9090                    21709                    21462                    23457                    25817                    37315\n",
       "nogets_u                                       11740                     4545                    18900                    11841                    15066                    14614                    21498\n",
       "days                                            7.00                     4.00                     7.00                     7.00                     6.90                     6.90                     6.90\n",
       "start                        2019-10-26 Sat 07:21:01  2019-09-13 Fri 04:50:12  2019-10-26 Sat 08:10:12  2021-10-05 Tue 06:59:01  2023-03-19 Sun 06:58:20  2023-03-19 Sun 06:58:11  2023-03-19 Sun 06:58:26\n",
       "end                          2019-11-02 Sat 07:18:23  2019-09-17 Tue 04:26:44  2019-11-02 Sat 07:35:38  2021-10-12 Tue 06:59:38  2023-03-26 Sun 04:59:52  2023-03-26 Sun 04:59:07  2023-03-26 Sun 04:59:11\n",
       "avg_acc_size                                   27.33                    20.41                    22.04                    28.70                    21.67                    22.37                    19.83\n",
       "avg_acc_size_MB                                 3.42                     2.55                     2.75                     3.59                     2.71                     2.80                     2.48\n",
       "avg_obj_start_MB                                0.02                     0.02                     0.01                     0.04                     0.16                     0.10                     0.09\n",
       "avg_obj_size_MB                                 5.72                     6.72                     5.08                     5.84                     6.68                     6.65                     5.65\n",
       "avg_obj_end_MB                                  5.74                     6.74                     5.09                     5.88                     6.85                     6.76                     5.74\n",
       "bw_MB/s_u                                       0.83                     0.36                     0.29                     3.30                     1.08                     1.25                     1.20\n",
       "bwperhdd_MB/s_u                                 0.02                     0.01                     0.01                     0.09                     0.03                     0.03                     0.03\n",
       "compulsory_miss_rate_withpf                     0.17                     0.20                     0.37                     0.05                     0.19                     0.15                     0.20\n",
       "one_hit_wonder                                  0.61                     0.55                     0.87                     0.53                     0.59                     0.55                     0.62\n",
       "put/obj                                         0.81                     0.92                     0.93                     0.72                     0.51                     0.71                     0.72\n",
       "put/acc                                         0.14                     0.19                     0.35                     0.04                     0.10                     0.10                     0.14\n",
       "putone/obj                                      0.81                     0.92                     0.93                     0.72                     0.51                     0.66                     0.65\n",
       "nogets/obj                                      0.46                     0.46                     0.81                     0.40                     0.33                     0.38                     0.38\n",
       "obj_us                                 25,428,000.00             9,878,000.00            23,341,000.00            29,819,000.00            45,703,000.00            38,905,000.00            57,311,000.00\n",
       "acc/obj_us                                  5,006.49                 4,013.36                 1,742.13                17,913.81                 4,719.36                 6,179.72                 4,314.42\n",
       "acc/day_us                             18,186,428.57             9,911,000.00             5,809,000.00            76,310,285.71            31,259,275.36            34,843,768.12            35,835,362.32\n",
       "acc/min_us                                 12,632.76                 6,910.81                 4,047.91                52,990.01                21,652.19                24,136.49                24,823.83\n",
       "acc/s_us                                      210.55                   115.18                    67.47                   883.17                   360.87                   402.27                   413.73\n",
       "acc_us                                147,794,000.00            48,734,000.00            62,372,000.00           555,643,000.00           239,146,000.00           268,156,000.00           288,539,000.00\n",
       "put_us                                 20,489,000.00             9,090,000.00            21,709,000.00            21,471,000.00            23,457,000.00            27,734,000.00            41,275,000.00\n",
       "putone_us                              20,489,000.00             9,090,000.00            21,709,000.00            21,462,000.00            23,457,000.00            25,817,000.00            37,315,000.00\n",
       "nogets_us                              11,740,000.00             4,545,000.00            18,900,000.00            11,841,000.00            15,066,000.00            14,614,000.00            21,498,000.00\n",
       "bw_MB/s_us                                    834.93                   361.25                   285.07                 3,295.62                 1,083.91                 1,254.63                 1,196.51\n",
       "bwperhdd_MB/s_us                               23.19                    10.03                     7.92                    91.55                    30.11                    34.85                    33.24\n",
       "backend_size_TB_obj                           973.81                   378.29                   893.88                 1,141.97                 1,750.27                 1,489.93                 2,194.81\n",
       "backend_size_TB_acc                           117.96                    53.80                    96.24                   141.13                   247.74                   209.99                   262.80\n",
       "backend_size_TB_accends                       118.47                    53.98                    96.41                   142.18                   253.84                   213.23                   267.00\n",
       "drive_size_TB_obj                              27.05                    10.51                    24.83                    31.72                    48.62                    41.39                    60.97\n",
       "drive_size_TB_acc                               3.28                     1.49                     2.67                     3.92                     6.88                     5.83                     7.30\n",
       "drive_size_TB_accends                           3.29                     1.50                     2.68                     3.95                     7.05                     5.92                     7.42"
      ]
     },
     "metadata": {},
     "output_type": "display_data"
    },
    {
     "name": "stderr",
     "output_type": "stream",
     "text": [
      "findfont: Font family ['cursive'] not found. Falling back to DejaVu Sans.\n",
      "findfont: Generic family 'cursive' not found because none of the following families were found: Apple Chancery, Textile, Zapf Chancery, Sand, Script MT, Felipa, Comic Neue, Comic Sans MS, cursive\n",
      "findfont: Font family ['Bitstream Vera Sans'] not found. Falling back to DejaVu Sans.\n",
      "findfont: Font family ['Bitstream Vera Sans'] not found. Falling back to DejaVu Sans.\n",
      "findfont: Font family ['Bitstream Vera Sans'] not found. Falling back to DejaVu Sans.\n"
     ]
    },
    {
     "name": "stdout",
     "output_type": "stream",
     "text": [
      "CPU times: user 3.89 s, sys: 16 ms, total: 3.91 s\n",
      "Wall time: 3.91 s\n"
     ]
    },
    {
     "data": {
      "image/png": "[encoded data removed]",
      "text/plain": [
       "<Figure size 432x288 with 1 Axes>"
      ]
     },
     "metadata": {
      "needs_background": "light"
     },
     "output_type": "display_data"
    }
   ],
   "source": [
    "%%time\n",
    "from matplotlib import ticker\n",
    "def format_bytes(size):\n",
    "    # 2**10 = 1024\n",
    "    power = 2**10\n",
    "    n = 0\n",
    "    power_labels = {0 : '', 1: 'K', 2: 'M', 3: 'G', 4: 'T', 5: 'P', 6: 'E'}\n",
    "    while size >= power:\n",
    "        size /= power\n",
    "        n += 1\n",
    "    return str(int(size)) + power_labels[n]+'B'\n",
    "\n",
    "from datetime import datetime\n",
    "def fmt(ts):\n",
    "    return datetime.utcfromtimestamp(ts).strftime('%Y-%m-%d %a %H:%M:%S')\n",
    "rows = []\n",
    "ax = plt.gca()\n",
    "for k, v in all_traces.items():\n",
    "    k = region_labels[k]\n",
    "    obj_acc_lens = []\n",
    "    obj_puts = []\n",
    "    sizes = []\n",
    "    obj_starts = []\n",
    "    obj_ends = []\n",
    "    obj_sizes = []\n",
    "    for kv in v['acc'].values():\n",
    "        acc_gets = [acc for acc in kv.accesses if acc.features.op.value not in [op.value for op in utils.PUT_OPS]]\n",
    "        acc_ts = [acc.ts for acc in acc_gets]\n",
    "        obj_acc_lens.append(len(acc_gets))\n",
    "        puts = len(kv.accesses) - len(acc_gets)\n",
    "        obj_puts.append(puts)\n",
    "        sizes.append([acc.size() for acc in kv.accesses])\n",
    "        start = min(acc.orig_offset for acc in kv.accesses)\n",
    "        end = max(acc.orig_endoffset for acc in kv.accesses)\n",
    "        obj_sizes.append(end-start)\n",
    "        obj_starts.append(start)\n",
    "        obj_ends.append(end)\n",
    "    obj_puts = np.array(obj_puts)\n",
    "    obj_acc_lens = np.array(obj_acc_lens)\n",
    "    all_sizes = flatten(sizes)\n",
    "    tt = np.sum(obj_acc_lens)\n",
    "    obj_sizes = np.array(obj_sizes)\n",
    "    # sns.ecdfplot(obj_acc_lens, label=k)\n",
    "    idx = np.argsort(obj_acc_lens)[::-1]\n",
    "    ys = obj_acc_lens[idx]\n",
    "    zs = obj_sizes[idx]\n",
    "    dzs = zs.cumsum()\n",
    "\n",
    "    xs = np.arange(len(ys)) / sample_ratio/0.01\n",
    "    plt.plot(xs, ys, label=k)\n",
    "    \n",
    "    if k == 'Region1' or True:\n",
    "        xlim = ax.get_xlim()\n",
    "        for csize in [\n",
    "#             1024*1024, 1024**3, (1024**3)*100,\n",
    "                      (1024**3)*400,\n",
    "#             1024**4, (1024**4)*10,\n",
    "                      # 1024**5,\n",
    "                     ]:\n",
    "            numitems = np.searchsorted(dzs, csize*sample_ratio*0.01)\n",
    "            if numitems <= 0 or numitems >= len(dzs):\n",
    "                continue\n",
    "            zs_x = numitems/sample_ratio/0.01\n",
    "#             if csize == 1024**3 * 400:\n",
    "#                 plt.axvline(zs, ls=':', c='red')\n",
    "#             else:\n",
    "#                 plt.axvline(zs, ls=':')\n",
    "            plt.scatter([zs_x], [ys[int(numitems)]], marker='x') # label=format_bytes(csize))\n",
    "#             plt.annotate(format_bytes(csize), xy=(zs_x*1.05, 10**4),\n",
    "#                          xycoords='data', va='top', rotation=90)# , rotation = 270)\n",
    "            # verticalalignment='right', horizontalalignment='right bottom'\n",
    "    \n",
    "    days = round(v['duration']/3600/24, 1)\n",
    "    row = {\n",
    "        'region': k,\n",
    "        'obj_u': len(v['acc']),\n",
    "        'acc/obj_u': tt/len(v['acc']),\n",
    "        'acc/day_u': tt/days,\n",
    "        'acc/min_u': tt/(v['duration']/60),\n",
    "        'acc/s_u': tt/(v['duration']),\n",
    "        'acc_u': v['logical_time'],\n",
    "        'put_u': sum(obj_puts),\n",
    "        'putone_u': sum(obj_puts > 0),\n",
    "        'nogets_u': sum(obj_acc_lens == 0),\n",
    "        'days': days,\n",
    "        'start': fmt(v['start_ts']),\n",
    "        'end': fmt(v['end_ts']),\n",
    "        'avg_acc_size': np.mean(all_sizes)/1024/128,\n",
    "        'avg_acc_size_MB': np.mean(all_sizes)/1024/1024,\n",
    "        'avg_obj_start_MB': np.mean(obj_starts)/1024/128/8,\n",
    "        'avg_obj_size_MB': np.mean(obj_sizes)/1024/128/8,\n",
    "        'avg_obj_end_MB': np.mean(obj_ends)/1024/128/8,\n",
    "        'bw_MB/s_u': np.sum(all_sizes)/1024/1024/(v['duration']),\n",
    "        'bwperhdd_MB/s_u': np.sum(all_sizes)/1024/1024/(v['duration'])/36,\n",
    "\n",
    "    }\n",
    "    # % of accesses that are the first in their series (i.e., no of objects)\n",
    "    row['compulsory_miss_rate_withpf'] = row['obj_u'] / row['acc_u']\n",
    "    # one-hit-wonder: % of objects that have only 0 or 1 GETs\n",
    "    row['one_hit_wonder'] = (obj_acc_lens <= 1).sum() / row['obj_u']\n",
    "    row['put/obj'] = row['put_u'] / row['obj_u']\n",
    "    row['put/acc'] = row['put_u'] / v['logical_time']\n",
    "    row['putone/obj'] = row['putone_u'] / row['obj_u']\n",
    "    # % of objects that have 0 gets\n",
    "    row['nogets/obj'] = row['nogets_u'] / row['obj_u']\n",
    "    for k in list(row.keys()):\n",
    "        if k.endswith('_u'):\n",
    "            row[k+\"s\"] = row[k] / sample_ratio / 0.01\n",
    "    row['backend_size_TB_obj'] = row['obj_us'] * 8 / 1024 / 204\n",
    "    row['backend_size_TB_acc'] = obj_sizes.sum()/1024/1204/1024/1024 / sample_ratio / 0.01\n",
    "    row['backend_size_TB_accends'] = np.sum(obj_ends)/1024/1204/1024/1024 / sample_ratio / 0.01\n",
    "    row['drive_size_TB_obj'] = row['backend_size_TB_obj']/36\n",
    "    row['drive_size_TB_acc'] = row['backend_size_TB_acc']/36\n",
    "    row['drive_size_TB_accends'] = row['backend_size_TB_accends']/36\n",
    "    obj_ends\n",
    "#     obj_sizes\n",
    "    # print(*row)\n",
    "    rows.append(row)\n",
    "# plt.xlim(0, 20)\n",
    "def plot_zipf(alpha, end=7.5):\n",
    "    xs = np.logspace(1, end)\n",
    "    ys = 10**(alpha*(end-np.log10(xs)))\n",
    "    plt.plot(xs, ys, ls='dashed', label=f'Zipf($\\\\alpha={alpha:.1f}$)')\n",
    "# plot_zipf(.9)\n",
    "plot_zipf(.8, 7.3)\n",
    "# plot_zipf(.8, 8)\n",
    "# plot_zipf(.8, 7)\n",
    "# plot_zipf(.9, 7)\n",
    "# plot_zipf(1., 7)\n",
    "\n",
    "# plt.legend(loc='center left', bbox_to_anchor=(1, .5))\n",
    "plt.legend(loc='lower left')\n",
    "plt.grid(True)\n",
    "plt.loglog()\n",
    "plt.xlabel('Block popularity rank')\n",
    "plt.ylabel('No of requests per block')\n",
    "\n",
    "with pd.option_context('display.float_format', '{:,.2f}'.format):\n",
    "    df = pd.DataFrame(rows) #, columns=['region', 'obj', 'acc/obj', 'acc/day', 'acc/min', 'acc', 'compulsory_miss', 'days', 'start', 'end'])\n",
    "    display(df.T)\n",
    "plt.ylim(1, None)\n",
    "plt.xlim(1, None)\n",
    "ax = plt.gca()\n",
    "y_minor = ticker.LogLocator(base = 10.0, subs = np.arange(1.0, 10.0) * 0.1, numticks = 10)\n",
    "ax.xaxis.set_major_locator(ticker.LogLocator(base=10.0, numticks=15))\n",
    "ax.xaxis.set_minor_locator(y_minor)\n",
    "\n",
    "# savefig(\"traces\", \"popularity_dist-all\")\n",
    "# savefig(\"traces\", \"popularity_dist_1\")"
   ]
  },
  {
   "cell_type": "code",
   "execution_count": 11,
   "id": "894408d1-39cd-4f51-81dd-59dd922a97d8",
   "metadata": {
    "tags": []
   },
   "outputs": [
    {
     "name": "stdout",
     "output_type": "stream",
     "text": [
      "\\begin{tabular}{lrrrrrrr}\n",
      " & Request Rate (s-1) & Obj Size, Avg (MB) & Access Size, Avg (MB) & Compulsory miss rate & One-hit-wonder rate & PUT-Only Blocks & #PUT / #Acc \\\\\n",
      "Dataset &  &  &  &  &  &  &  \\\\\n",
      "Region1 & 211 & 5.74 & 3.42 & 17\\% & 61\\% & 46\\% & 14\\% \\\\\n",
      "Region2 & 115 & 6.74 & 2.55 & 20\\% & 55\\% & 46\\% & 19\\% \\\\\n",
      "Region3 & 67.5 & 5.09 & 2.75 & 37\\% & 87\\% & 81\\% & 35\\% \\\\\n",
      "Region4 & 883 & 5.88 & 3.59 & 5\\% & 53\\% & 40\\% & 4\\% \\\\\n",
      "Region5 & 361 & 6.85 & 2.71 & 19\\% & 59\\% & 33\\% & 10\\% \\\\\n",
      "Region6 & 402 & 6.76 & 2.8 & 15\\% & 55\\% & 38\\% & 10\\% \\\\\n",
      "Region7 & 414 & 5.74 & 2.48 & 20\\% & 62\\% & 38\\% & 14\\% \\\\\n",
      "\\end{tabular}\n",
      "\n"
     ]
    },
    {
     "data": {
      "text/html": [
       "<style type=\"text/css\">\n",
       "</style>\n",
       "<table id=\"T_60f13\">\n",
       "  <thead>\n",
       "    <tr>\n",
       "      <th class=\"blank level0\" >&nbsp;</th>\n",
       "      <th id=\"T_60f13_level0_col0\" class=\"col_heading level0 col0\" >Request Rate (s-1)</th>\n",
       "      <th id=\"T_60f13_level0_col1\" class=\"col_heading level0 col1\" >Obj Size, Avg (MB)</th>\n",
       "      <th id=\"T_60f13_level0_col2\" class=\"col_heading level0 col2\" >Access Size, Avg (MB)</th>\n",
       "      <th id=\"T_60f13_level0_col3\" class=\"col_heading level0 col3\" >Compulsory miss rate</th>\n",
       "      <th id=\"T_60f13_level0_col4\" class=\"col_heading level0 col4\" >One-hit-wonder rate</th>\n",
       "      <th id=\"T_60f13_level0_col5\" class=\"col_heading level0 col5\" >PUT-Only Blocks</th>\n",
       "      <th id=\"T_60f13_level0_col6\" class=\"col_heading level0 col6\" >#PUT / #Acc</th>\n",
       "    </tr>\n",
       "    <tr>\n",
       "      <th class=\"index_name level0\" >Dataset</th>\n",
       "      <th class=\"blank col0\" >&nbsp;</th>\n",
       "      <th class=\"blank col1\" >&nbsp;</th>\n",
       "      <th class=\"blank col2\" >&nbsp;</th>\n",
       "      <th class=\"blank col3\" >&nbsp;</th>\n",
       "      <th class=\"blank col4\" >&nbsp;</th>\n",
       "      <th class=\"blank col5\" >&nbsp;</th>\n",
       "      <th class=\"blank col6\" >&nbsp;</th>\n",
       "    </tr>\n",
       "  </thead>\n",
       "  <tbody>\n",
       "    <tr>\n",
       "      <th id=\"T_60f13_level0_row0\" class=\"row_heading level0 row0\" >Region1</th>\n",
       "      <td id=\"T_60f13_row0_col0\" class=\"data row0 col0\" >211</td>\n",
       "      <td id=\"T_60f13_row0_col1\" class=\"data row0 col1\" >5.74</td>\n",
       "      <td id=\"T_60f13_row0_col2\" class=\"data row0 col2\" >3.42</td>\n",
       "      <td id=\"T_60f13_row0_col3\" class=\"data row0 col3\" >17\\%</td>\n",
       "      <td id=\"T_60f13_row0_col4\" class=\"data row0 col4\" >61\\%</td>\n",
       "      <td id=\"T_60f13_row0_col5\" class=\"data row0 col5\" >46\\%</td>\n",
       "      <td id=\"T_60f13_row0_col6\" class=\"data row0 col6\" >14\\%</td>\n",
       "    </tr>\n",
       "    <tr>\n",
       "      <th id=\"T_60f13_level0_row1\" class=\"row_heading level0 row1\" >Region2</th>\n",
       "      <td id=\"T_60f13_row1_col0\" class=\"data row1 col0\" >115</td>\n",
       "      <td id=\"T_60f13_row1_col1\" class=\"data row1 col1\" >6.74</td>\n",
       "      <td id=\"T_60f13_row1_col2\" class=\"data row1 col2\" >2.55</td>\n",
       "      <td id=\"T_60f13_row1_col3\" class=\"data row1 col3\" >20\\%</td>\n",
       "      <td id=\"T_60f13_row1_col4\" class=\"data row1 col4\" >55\\%</td>\n",
       "      <td id=\"T_60f13_row1_col5\" class=\"data row1 col5\" >46\\%</td>\n",
       "      <td id=\"T_60f13_row1_col6\" class=\"data row1 col6\" >19\\%</td>\n",
       "    </tr>\n",
       "    <tr>\n",
       "      <th id=\"T_60f13_level0_row2\" class=\"row_heading level0 row2\" >Region3</th>\n",
       "      <td id=\"T_60f13_row2_col0\" class=\"data row2 col0\" >67.5</td>\n",
       "      <td id=\"T_60f13_row2_col1\" class=\"data row2 col1\" >5.09</td>\n",
       "      <td id=\"T_60f13_row2_col2\" class=\"data row2 col2\" >2.75</td>\n",
       "      <td id=\"T_60f13_row2_col3\" class=\"data row2 col3\" >37\\%</td>\n",
       "      <td id=\"T_60f13_row2_col4\" class=\"data row2 col4\" >87\\%</td>\n",
       "      <td id=\"T_60f13_row2_col5\" class=\"data row2 col5\" >81\\%</td>\n",
       "      <td id=\"T_60f13_row2_col6\" class=\"data row2 col6\" >35\\%</td>\n",
       "    </tr>\n",
       "    <tr>\n",
       "      <th id=\"T_60f13_level0_row3\" class=\"row_heading level0 row3\" >Region4</th>\n",
       "      <td id=\"T_60f13_row3_col0\" class=\"data row3 col0\" >883</td>\n",
       "      <td id=\"T_60f13_row3_col1\" class=\"data row3 col1\" >5.88</td>\n",
       "      <td id=\"T_60f13_row3_col2\" class=\"data row3 col2\" >3.59</td>\n",
       "      <td id=\"T_60f13_row3_col3\" class=\"data row3 col3\" >5\\%</td>\n",
       "      <td id=\"T_60f13_row3_col4\" class=\"data row3 col4\" >53\\%</td>\n",
       "      <td id=\"T_60f13_row3_col5\" class=\"data row3 col5\" >40\\%</td>\n",
       "      <td id=\"T_60f13_row3_col6\" class=\"data row3 col6\" >4\\%</td>\n",
       "    </tr>\n",
       "    <tr>\n",
       "      <th id=\"T_60f13_level0_row4\" class=\"row_heading level0 row4\" >Region5</th>\n",
       "      <td id=\"T_60f13_row4_col0\" class=\"data row4 col0\" >361</td>\n",
       "      <td id=\"T_60f13_row4_col1\" class=\"data row4 col1\" >6.85</td>\n",
       "      <td id=\"T_60f13_row4_col2\" class=\"data row4 col2\" >2.71</td>\n",
       "      <td id=\"T_60f13_row4_col3\" class=\"data row4 col3\" >19\\%</td>\n",
       "      <td id=\"T_60f13_row4_col4\" class=\"data row4 col4\" >59\\%</td>\n",
       "      <td id=\"T_60f13_row4_col5\" class=\"data row4 col5\" >33\\%</td>\n",
       "      <td id=\"T_60f13_row4_col6\" class=\"data row4 col6\" >10\\%</td>\n",
       "    </tr>\n",
       "    <tr>\n",
       "      <th id=\"T_60f13_level0_row5\" class=\"row_heading level0 row5\" >Region6</th>\n",
       "      <td id=\"T_60f13_row5_col0\" class=\"data row5 col0\" >402</td>\n",
       "      <td id=\"T_60f13_row5_col1\" class=\"data row5 col1\" >6.76</td>\n",
       "      <td id=\"T_60f13_row5_col2\" class=\"data row5 col2\" >2.8</td>\n",
       "      <td id=\"T_60f13_row5_col3\" class=\"data row5 col3\" >15\\%</td>\n",
       "      <td id=\"T_60f13_row5_col4\" class=\"data row5 col4\" >55\\%</td>\n",
       "      <td id=\"T_60f13_row5_col5\" class=\"data row5 col5\" >38\\%</td>\n",
       "      <td id=\"T_60f13_row5_col6\" class=\"data row5 col6\" >10\\%</td>\n",
       "    </tr>\n",
       "    <tr>\n",
       "      <th id=\"T_60f13_level0_row6\" class=\"row_heading level0 row6\" >Region7</th>\n",
       "      <td id=\"T_60f13_row6_col0\" class=\"data row6 col0\" >414</td>\n",
       "      <td id=\"T_60f13_row6_col1\" class=\"data row6 col1\" >5.74</td>\n",
       "      <td id=\"T_60f13_row6_col2\" class=\"data row6 col2\" >2.48</td>\n",
       "      <td id=\"T_60f13_row6_col3\" class=\"data row6 col3\" >20\\%</td>\n",
       "      <td id=\"T_60f13_row6_col4\" class=\"data row6 col4\" >62\\%</td>\n",
       "      <td id=\"T_60f13_row6_col5\" class=\"data row6 col5\" >38\\%</td>\n",
       "      <td id=\"T_60f13_row6_col6\" class=\"data row6 col6\" >14\\%</td>\n",
       "    </tr>\n",
       "  </tbody>\n",
       "</table>\n"
      ],
      "text/plain": [
       "<pandas.io.formats.style.Styler at 0x7f7871cb1600>"
      ]
     },
     "metadata": {},
     "output_type": "display_data"
    }
   ],
   "source": [
    "table_map = {\n",
    "    'region': 'Dataset',\n",
    "    'acc/s_us': 'Request Rate (s-1)',\n",
    "    # 'avg_obj_size': 'Avg Obj Size (Range)',\n",
    "    'avg_obj_end_MB': 'Obj Size, Avg (MB)',\n",
    "    'avg_acc_size_MB': 'Access Size, Avg (MB)',\n",
    "    'compulsory_miss_rate_withpf': 'Compulsory miss rate',\n",
    "    'one_hit_wonder': 'One-hit-wonder rate',\n",
    "    'nogets/obj': 'PUT-Only Blocks',\n",
    "    'put/acc': '#PUT / #Acc',\n",
    "}\n",
    "percents_cols = ['compulsory_miss_rate_withpf', 'one_hit_wonder', 'nogets/obj','put/acc']\n",
    "per_cols = [table_map[k] for k in percents_cols]\n",
    "# def get_fmt()\n",
    "# with pd.option_context('display.float_format', '{:.3g}'.format):\n",
    "df_ = df[table_map.keys()].rename(columns=table_map).set_index(\"Dataset\")\n",
    "df_ = df_.style.format('{:.3g}')\n",
    "df_ = df_.format(lambda x: '{:.0f}\\%'.format(x*100), subset=per_cols, escape=\"latex\")\n",
    "print(df_.to_latex())\n",
    "display(df_)"
   ]
  },
  {
   "cell_type": "code",
   "execution_count": 12,
   "id": "8f6d8402-9995-46d4-89f0-3d9905434091",
   "metadata": {
    "tags": []
   },
   "outputs": [
    {
     "data": {
      "text/plain": [
       "region\n",
       "Region1    5.719565\n",
       "Region2    6.715250\n",
       "Region3    5.083730\n",
       "Region4    5.835140\n",
       "Region5    6.683008\n",
       "Region6    6.654452\n",
       "Region7    5.653439\n",
       "Name: avg_obj_size_MB, dtype: float64"
      ]
     },
     "execution_count": 12,
     "metadata": {},
     "output_type": "execute_result"
    }
   ],
   "source": [
    "df_sizes = df.set_index(\"region\")[\"avg_obj_size_MB\"]\n",
    "df_sizes"
   ]
  },
  {
   "cell_type": "code",
   "execution_count": 13,
   "id": "a96ccbc4-5b22-408e-90e3-90d3aebc2371",
   "metadata": {
    "tags": []
   },
   "outputs": [
    {
     "data": {
      "application/vnd.jupyter.widget-view+json": {
       "model_id": "8db4815e2a2e4ea8abc7e18a2b6fbfdf",
       "version_major": 2,
       "version_minor": 0
      },
      "text/plain": [
       "0it [00:00, ?it/s]"
      ]
     },
     "metadata": {},
     "output_type": "display_data"
    },
    {
     "data": {
      "application/vnd.jupyter.widget-view+json": {
       "model_id": "8967ef97a09c46f1bd475611ddadf5eb",
       "version_major": 2,
       "version_minor": 0
      },
      "text/plain": [
       "0it [00:00, ?it/s]"
      ]
     },
     "metadata": {},
     "output_type": "display_data"
    },
    {
     "data": {
      "application/vnd.jupyter.widget-view+json": {
       "model_id": "59b532bf4f9c41aebe9df7d251fd8d48",
       "version_major": 2,
       "version_minor": 0
      },
      "text/plain": [
       "0it [00:00, ?it/s]"
      ]
     },
     "metadata": {},
     "output_type": "display_data"
    },
    {
     "data": {
      "application/vnd.jupyter.widget-view+json": {
       "model_id": "f46cb7df14ab4ea0b0939f41f629b64f",
       "version_major": 2,
       "version_minor": 0
      },
      "text/plain": [
       "0it [00:00, ?it/s]"
      ]
     },
     "metadata": {},
     "output_type": "display_data"
    },
    {
     "data": {
      "application/vnd.jupyter.widget-view+json": {
       "model_id": "554f75f252d142cf94000cfaa02cef35",
       "version_major": 2,
       "version_minor": 0
      },
      "text/plain": [
       "0it [00:00, ?it/s]"
      ]
     },
     "metadata": {},
     "output_type": "display_data"
    },
    {
     "data": {
      "application/vnd.jupyter.widget-view+json": {
       "model_id": "c1cbabd7ffcd47588e11f557ff3517e6",
       "version_major": 2,
       "version_minor": 0
      },
      "text/plain": [
       "0it [00:00, ?it/s]"
      ]
     },
     "metadata": {},
     "output_type": "display_data"
    },
    {
     "data": {
      "application/vnd.jupyter.widget-view+json": {
       "model_id": "17df3f4591c04cedad000fba12f9ebef",
       "version_major": 2,
       "version_minor": 0
      },
      "text/plain": [
       "0it [00:00, ?it/s]"
      ]
     },
     "metadata": {},
     "output_type": "display_data"
    },
    {
     "name": "stdout",
     "output_type": "stream",
     "text": [
      "CPU times: user 1.38 s, sys: 408 ms, total: 1.78 s\n",
      "Wall time: 1.28 s\n"
     ]
    },
    {
     "data": {
      "image/png": "[encoded data removed]",
      "text/plain": [
       "<Figure size 432x288 with 1 Axes>"
      ]
     },
     "metadata": {
      "needs_background": "light"
     },
     "output_type": "display_data"
    }
   ],
   "source": [
    "%%time\n",
    "# Graph should be based on 100% - keys\n",
    "# sample_ratio_ = 10\n",
    "sample_ratio_ = 0.1\n",
    "# TODO: full.keys != 100 (often more, sometimes less)\n",
    "import matplotlib.ticker as ticker\n",
    "for kk in regions:\n",
    "    trace_group, region = kk.split('/')\n",
    "    if sample_ratio_ == 100:\n",
    "        keyfile = local_cluster.TRACE_LOCATION + \"/{}/{}/full.keys\".format(trace_group, region)\n",
    "    else:\n",
    "        keyfile = local_cluster.TRACE_LOCATION + \"/{}/{}/full_0_{}.keys\".format(trace_group, region, sample_ratio_)\n",
    "    alls = []\n",
    "    with open(keyfile) as f:\n",
    "        for line in tqdm(f):\n",
    "            numgets = line.split()[2]\n",
    "            alls.append(int(numgets))\n",
    "    ys = sorted(alls, reverse=True)\n",
    "    xs = np.arange(len(ys)) / sample_ratio_/0.01\n",
    "    ax = plt.gca()\n",
    "    plt.plot(xs, ys, label=region_labels[region])\n",
    "    \n",
    "    # Approx: will be less accurate on left side, assuming that size and #access are not independent\n",
    "    dzs = (np.ones(len(ys))*df_sizes.loc[region_labels[region]]*1024*1024).cumsum()\n",
    "    \n",
    "        # xlim = ax.get_xlim()\n",
    "    for csize in [\n",
    "#         1024*1024, 1024**3, (1024**3)*100,\n",
    "                  (1024**3)*400,\n",
    "#         1024**4, (1024**4)*10,\n",
    "                  # 1024**5,\n",
    "                 ]:\n",
    "        numitems = np.searchsorted(dzs, csize*sample_ratio_*0.01)\n",
    "        if numitems <= 0 or numitems >= len(dzs):\n",
    "            continue\n",
    "        zs_x = numitems/sample_ratio_/0.01\n",
    "        # Need to have real sizes\n",
    "        plt.scatter([zs_x], [ys[int(numitems)]], marker='x') # label=format_bytes(csize))\n",
    "plot_zipf(.8, 7.3)\n",
    "plt.legend(loc='lower left', ncol=2)\n",
    "plt.grid(True)\n",
    "plt.loglog()\n",
    "plt.xlabel('Block popularity rank')\n",
    "plt.ylabel('#Accesses per block')\n",
    "\n",
    "plt.ylim(1, None)\n",
    "plt.xlim(1, None)\n",
    "ax = plt.gca()\n",
    "y_minor = ticker.LogLocator(base = 10.0, subs = np.arange(1.0, 10.0) * 0.1, numticks = 10)\n",
    "ax.xaxis.set_major_locator(ticker.LogLocator(base=10.0, numticks=15))\n",
    "ax.xaxis.set_minor_locator(y_minor)\n",
    "\n",
    "savefig(\"trace-stats\", f\"popularity_dist_{sample_ratio_}\")"
   ]
  },
  {
   "cell_type": "code",
   "execution_count": 14,
   "id": "9b291a8e-7299-40f2-987b-25297edc5208",
   "metadata": {
    "tags": []
   },
   "outputs": [
    {
     "name": "stdout",
     "output_type": "stream",
     "text": [
      "9065\n"
     ]
    },
    {
     "name": "stderr",
     "output_type": "stream",
     "text": [
      "/tmp/ipykernel_38524/3317348687.py:14: PerformanceWarning: dropping on a non-lexsorted multi-index without a level parameter may impact performance.\n",
      "  best_pf_option_ = best_pf_option.idxmin(skipna=skipna)\n",
      "/tmp/ipykernel_38524/3317348687.py:14: PerformanceWarning: dropping on a non-lexsorted multi-index without a level parameter may impact performance.\n",
      "  best_pf_option_ = best_pf_option.idxmin(skipna=skipna)\n"
     ]
    }
   ],
   "source": [
    "dfs = get_data()"
   ]
  },
  {
   "cell_type": "code",
   "execution_count": 15,
   "id": "2b67159c-4975-46d7-9d92-9bfecba1cf34",
   "metadata": {
    "tags": []
   },
   "outputs": [],
   "source": [
    "d_converged = filter_df(dfs['exp'], {'Target DWPD': 7.5, 'CanonAP': True, 'RealAP': True, 'ShortLabel': 'Baleen (ML Prefetch)'})"
   ]
  },
  {
   "cell_type": "code",
   "execution_count": 16,
   "id": "e11b8b33-5cff-40ae-a4a3-92a32456a3a1",
   "metadata": {
    "tags": []
   },
   "outputs": [],
   "source": [
    "converged_eas_ml = d_converged.groupby(\"Region\")[\"Avg Eviction Age (s)\"].mean().to_dict()"
   ]
  },
  {
   "cell_type": "code",
   "execution_count": 17,
   "id": "7445b2a3-a8f9-4f9a-8971-1ed7b384a440",
   "metadata": {},
   "outputs": [
    {
     "name": "stderr",
     "output_type": "stream",
     "text": [
      "/home/cc/.local/lib/python3.10/site-packages/pandas/core/arraylike.py:402: RuntimeWarning: divide by zero encountered in log10\n",
      "  result = getattr(ufunc, method)(*inputs, **kwargs)\n",
      "/home/cc/.local/lib/python3.10/site-packages/pandas/core/arraylike.py:402: RuntimeWarning: divide by zero encountered in log10\n",
      "  result = getattr(ufunc, method)(*inputs, **kwargs)\n",
      "/home/cc/.local/lib/python3.10/site-packages/pandas/core/arraylike.py:402: RuntimeWarning: divide by zero encountered in log10\n",
      "  result = getattr(ufunc, method)(*inputs, **kwargs)\n",
      "/home/cc/.local/lib/python3.10/site-packages/pandas/core/arraylike.py:402: RuntimeWarning: divide by zero encountered in log10\n",
      "  result = getattr(ufunc, method)(*inputs, **kwargs)\n",
      "/home/cc/.local/lib/python3.10/site-packages/pandas/core/arraylike.py:402: RuntimeWarning: divide by zero encountered in log10\n",
      "  result = getattr(ufunc, method)(*inputs, **kwargs)\n",
      "/home/cc/.local/lib/python3.10/site-packages/pandas/core/arraylike.py:402: RuntimeWarning: divide by zero encountered in log10\n",
      "  result = getattr(ufunc, method)(*inputs, **kwargs)\n",
      "/home/cc/.local/lib/python3.10/site-packages/pandas/core/arraylike.py:402: RuntimeWarning: divide by zero encountered in log10\n",
      "  result = getattr(ufunc, method)(*inputs, **kwargs)\n"
     ]
    },
    {
     "data": {
      "image/png": "[encoded data removed]",
      "text/plain": [
       "<Figure size 432x288 with 1 Axes>"
      ]
     },
     "metadata": {
      "needs_background": "light"
     },
     "output_type": "display_data"
    }
   ],
   "source": [
    "ax = plt.gca()\n",
    "for k, v in all_traces.items():\n",
    "    kl = region_labels[k]\n",
    "    obj_acc_lens = []\n",
    "    obj_puts = []\n",
    "    sizes = []\n",
    "    obj_starts = []\n",
    "    obj_ends = []\n",
    "    obj_sizes = []\n",
    "    ias = []\n",
    "    for kv in v['acc'].values():\n",
    "        acc_gets = [acc for acc in kv.accesses if acc.features.op.value not in [op.value for op in utils.PUT_OPS]]\n",
    "        acc_ts = [acc.ts for acc in acc_gets]\n",
    "        interarrivals = np.diff(acc_ts)\n",
    "        ias.append(interarrivals)\n",
    "    all_ias = np.array(sorted(flatten(ias)))\n",
    "    sns.ecdfplot(all_ias, log_scale=[True, False], label=kl)\n",
    "    \n",
    "    idx = np.searchsorted(all_ias, converged_eas_ml[k])\n",
    "    plt.scatter([converged_eas_ml[k]], [idx/len(all_ias)], marker='x') # label='400GB, 34MB/s', \n",
    "\n",
    "y_minor = ticker.LogLocator(base = 10.0, subs = np.arange(1.0, 10.0) * 0.1, numticks = 30)\n",
    "# ax.xaxis.set_minor_locator(y_minor)\n",
    "ax.xaxis.set_major_locator(ticker.LogLocator(base=10.0, numticks=10))\n",
    "plt.legend(loc='upper left', ncol=2)\n",
    "plt.grid(True)\n",
    "# plt.loglog()\n",
    "plt.xlabel('Interarrival time (s)')\n",
    "plt.ylabel('CDF (of accesses)')\n",
    "savefig(\"trace-stats\", \"interarrival_dist\")"
   ]
  },
  {
   "cell_type": "code",
   "execution_count": 18,
   "id": "46fa7cbb-f92c-42c5-84bc-ccf8392f66f2",
   "metadata": {
    "tags": []
   },
   "outputs": [
    {
     "data": {
      "text/plain": [
       "<module 'BCacheSim.cachesim.utils' from '/home/cc/Baleen-FAST24/notebooks/paper-figs/../../BCacheSim/cachesim/utils.py'>"
      ]
     },
     "execution_count": 18,
     "metadata": {},
     "output_type": "execute_result"
    }
   ],
   "source": [
    "reload(utils)"
   ]
  },
  {
   "cell_type": "code",
   "execution_count": 19,
   "id": "dd6e6392-d577-434d-959a-63dbb3e79105",
   "metadata": {
    "tags": []
   },
   "outputs": [
    {
     "data": {
      "application/vnd.jupyter.widget-view+json": {
       "model_id": "848a478d4c224e36b71de898c6eefeb3",
       "version_major": 2,
       "version_minor": 0
      },
      "text/plain": [
       "  0%|          | 0/7 [00:00<?, ?it/s]"
      ]
     },
     "metadata": {},
     "output_type": "display_data"
    },
    {
     "name": "stderr",
     "output_type": "stream",
     "text": [
      "/home/cc/.local/lib/python3.10/site-packages/pandas/core/arraylike.py:402: RuntimeWarning: divide by zero encountered in log10\n",
      "  result = getattr(ufunc, method)(*inputs, **kwargs)\n",
      "/home/cc/.local/lib/python3.10/site-packages/pandas/core/arraylike.py:402: RuntimeWarning: divide by zero encountered in log10\n",
      "  result = getattr(ufunc, method)(*inputs, **kwargs)\n",
      "/home/cc/.local/lib/python3.10/site-packages/pandas/core/arraylike.py:402: RuntimeWarning: divide by zero encountered in log10\n",
      "  result = getattr(ufunc, method)(*inputs, **kwargs)\n",
      "/home/cc/.local/lib/python3.10/site-packages/pandas/core/arraylike.py:402: RuntimeWarning: divide by zero encountered in log10\n",
      "  result = getattr(ufunc, method)(*inputs, **kwargs)\n",
      "/home/cc/.local/lib/python3.10/site-packages/pandas/core/arraylike.py:402: RuntimeWarning: divide by zero encountered in log10\n",
      "  result = getattr(ufunc, method)(*inputs, **kwargs)\n",
      "/home/cc/.local/lib/python3.10/site-packages/pandas/core/arraylike.py:402: RuntimeWarning: divide by zero encountered in log10\n",
      "  result = getattr(ufunc, method)(*inputs, **kwargs)\n",
      "/home/cc/.local/lib/python3.10/site-packages/pandas/core/arraylike.py:402: RuntimeWarning: divide by zero encountered in log10\n",
      "  result = getattr(ufunc, method)(*inputs, **kwargs)\n"
     ]
    },
    {
     "name": "stdout",
     "output_type": "stream",
     "text": [
      "CPU times: user 5.29 s, sys: 725 ms, total: 6.01 s\n",
      "Wall time: 5.22 s\n"
     ]
    },
    {
     "data": {
      "image/png": "[encoded data removed]",
      "text/plain": [
       "<Figure size 432x288 with 1 Axes>"
      ]
     },
     "metadata": {
      "needs_background": "light"
     },
     "output_type": "display_data"
    }
   ],
   "source": [
    "%%time\n",
    "from matplotlib import ticker\n",
    "ax = plt.gca()\n",
    "for k, v in tqdm(all_traces.items()):\n",
    "    kl = maps.region_labels[k]\n",
    "    obj_acc_lens = []\n",
    "    obj_puts = []\n",
    "    sizes = []\n",
    "    obj_starts = []\n",
    "    obj_ends = []\n",
    "    obj_sizes = []\n",
    "    ias = []\n",
    "    for kv in v['acc'].values():\n",
    "        acc_gets = [acc for acc in kv.accesses if acc.features.op.value not in [op.value for op in utils.PUT_OPS]]\n",
    "        acc_ts = [acc.ts for acc in acc_gets]\n",
    "        interarrivals = np.diff(acc_ts)\n",
    "        ias.append(interarrivals)\n",
    "    all_ias = np.array(sorted(flatten(ias)))\n",
    "    sns.ecdfplot(all_ias, log_scale=[True, False], label=kl)\n",
    "    \n",
    "    idx = np.searchsorted(all_ias, converged_eas_ml[k])\n",
    "    plt.scatter([converged_eas_ml[k]], [idx/len(all_ias)], marker='x') # label='400GB, 34MB/s', \n",
    "\n",
    "\n",
    "for tpoint in [1, 60, 3600, 3600*24]:\n",
    "    plt.axvline(tpoint, ls=':')\n",
    "    plt.annotate(utils.fmt_dur(tpoint), xy=(tpoint*1.1, 0.2),\n",
    "                 xycoords='data', va='top', rotation=90)# , rotation = 270)\n",
    "\n",
    "    \n",
    "y_minor = ticker.LogLocator(base = 10.0, subs = np.arange(1.0, 10.0) * 0.1, numticks = 30)\n",
    "# ax.xaxis.set_minor_locator(y_minor)\n",
    "ax.xaxis.set_major_locator(ticker.LogLocator(base=10.0, numticks=10))\n",
    "plt.legend(loc='center right', ncol=2, frameon=True)\n",
    "plt.grid(True)\n",
    "plt.xlim(1, 3600*24*7)\n",
    "# plt.loglog()\n",
    "plt.xlabel('Interarrival time (s)')\n",
    "plt.ylabel('CDF (of accesses)')\n",
    "savefig(\"trace-stats\", f\"interarrival_dist_{sample_ratio}\")"
   ]
  },
  {
   "cell_type": "code",
   "execution_count": 20,
   "id": "078ae92b-f9da-438e-98ca-a137d0120130",
   "metadata": {
    "tags": []
   },
   "outputs": [
    {
     "data": {
      "image/png": "[encoded data removed]",
      "text/plain": [
       "<Figure size 432x288 with 1 Axes>"
      ]
     },
     "metadata": {
      "needs_background": "light"
     },
     "output_type": "display_data"
    }
   ],
   "source": [
    "ax = plt.gca()\n",
    "for k, v in all_traces.items():\n",
    "    k = region_labels[k]\n",
    "    obj_acc_lens = []\n",
    "    obj_puts = []\n",
    "    sizes = []\n",
    "    obj_starts = []\n",
    "    obj_ends = []\n",
    "    obj_sizes = []\n",
    "    ias = []\n",
    "    for kv in v['acc'].values():\n",
    "        acc_gets = [acc for acc in kv.accesses if acc.features.op.value not in [op.value for op in utils.PUT_OPS]]\n",
    "        acc_ts = [acc.ts for acc in acc_gets]\n",
    "        interarrivals = np.diff(acc_ts)\n",
    "        obj_acc_lens.append(len(acc_gets))\n",
    "        puts = len(kv.accesses) - len(acc_gets)\n",
    "        obj_puts.append(puts)\n",
    "        sizes.append([acc.size() for acc in kv.accesses])\n",
    "        start = min(acc.orig_offset for acc in kv.accesses)\n",
    "        end = max(acc.orig_endoffset for acc in kv.accesses)\n",
    "        obj_sizes.append(end-start)\n",
    "        obj_starts.append(start)\n",
    "        obj_ends.append(end)\n",
    "        ias.append(interarrivals)\n",
    "    obj_puts = np.array(obj_puts)\n",
    "    obj_acc_lens = np.array(obj_acc_lens)\n",
    "    all_sizes = np.array(flatten(sizes))\n",
    "    all_ias = np.array(flatten(ias))\n",
    "    sns.ecdfplot(all_sizes/1024/1024, log_scale=[False, False], label=k)\n",
    "\n",
    "# y_minor = ticker.LogLocator(base = 10.0, subs = np.arange(1.0, 10.0) * 0.1, numticks = 10)\n",
    "# ax.xaxis.set_major_locator(ticker.LogLocator(base=10.0, numticks=15))\n",
    "# ax.xaxis.set_minor_locator(y_minor)\n",
    "plt.legend(ncol=2)\n",
    "plt.grid(True)\n",
    "plt.xlim(0, 8.1)\n",
    "# plt.loglog()\n",
    "plt.xlabel('Access size (MB)')\n",
    "plt.ylabel('CDF (of accesses)')\n",
    "savefig(\"trace-stats\", \"access_size_dist\")"
   ]
  }
 ],
 "metadata": {
  "kernelspec": {
   "display_name": "Python 3 (ipykernel)",
   "language": "python",
   "name": "python3"
  },
  "language_info": {
   "codemirror_mode": {
    "name": "ipython",
    "version": 3
   },
   "file_extension": ".py",
   "mimetype": "text/x-python",
   "name": "python",
   "nbconvert_exporter": "python",
   "pygments_lexer": "ipython3",
   "version": "3.10.12"
  }
 },
 "nbformat": 4,
 "nbformat_minor": 5
}
