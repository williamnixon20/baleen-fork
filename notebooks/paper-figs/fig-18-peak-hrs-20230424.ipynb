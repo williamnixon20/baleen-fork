{
 "cells": [
  {
   "cell_type": "markdown",
   "id": "c3c2dfa9-f12b-4bd9-b709-dd2d7f5fb172",
   "metadata": {},
   "source": [
    "# This requires the full stats files of individual runs which are not included in the drop."
   ]
  },
  {
   "cell_type": "code",
   "execution_count": 1,
   "id": "bc586e81-f494-4bd7-8f3f-367b23d1ad13",
   "metadata": {
    "tags": []
   },
   "outputs": [
    {
     "name": "stdout",
     "output_type": "stream",
     "text": [
      "CPython 2024-01-04T04:29:57.944278\n"
     ]
    },
    {
     "data": {
      "text/html": [
       "<style>.container { width:100% !important; }</style>"
      ],
      "text/plain": [
       "<IPython.core.display.HTML object>"
      ]
     },
     "metadata": {},
     "output_type": "display_data"
    },
    {
     "name": "stdout",
     "output_type": "stream",
     "text": [
      "CPU times: user 394 µs, sys: 469 µs, total: 863 µs\n",
      "Wall time: 1.08 ms\n"
     ]
    }
   ],
   "source": [
    "%run ../includes/common-20230414.ipynb"
   ]
  },
  {
   "cell_type": "code",
   "execution_count": 2,
   "id": "f7d14040-802e-434e-9eaa-abf1562984ed",
   "metadata": {
    "tags": []
   },
   "outputs": [
    {
     "name": "stdout",
     "output_type": "stream",
     "text": [
      "postproc failed\n"
     ]
    }
   ],
   "source": [
    "dfc_raw = get_df()"
   ]
  },
  {
   "cell_type": "code",
   "execution_count": 3,
   "id": "8d3f8159-612a-4ac2-8b5d-d7dc2064446e",
   "metadata": {
    "tags": []
   },
   "outputs": [
    {
     "name": "stdout",
     "output_type": "stream",
     "text": [
      "9065\n"
     ]
    },
    {
     "name": "stderr",
     "output_type": "stream",
     "text": [
      "/tmp/ipykernel_47632/3317348687.py:14: PerformanceWarning: dropping on a non-lexsorted multi-index without a level parameter may impact performance.\n",
      "  best_pf_option_ = best_pf_option.idxmin(skipna=skipna)\n",
      "/tmp/ipykernel_47632/3317348687.py:14: PerformanceWarning: dropping on a non-lexsorted multi-index without a level parameter may impact performance.\n",
      "  best_pf_option_ = best_pf_option.idxmin(skipna=skipna)\n"
     ]
    }
   ],
   "source": [
    "dfs_01 = get_data(dfc_raw, default_sample_ratio=.1)"
   ]
  },
  {
   "cell_type": "code",
   "execution_count": 4,
   "id": "89230a41-3838-4354-87af-92a05af843df",
   "metadata": {
    "tags": []
   },
   "outputs": [],
   "source": [
    "def relabel_leg_part(mapping=None, ax=None, **kwargs):\n",
    "    ax = ax or plt.gca()\n",
    "    h, labels = ax.get_legend_handles_labels()\n",
    "    labels = [mapping[x.split('@')[0]] for x in labels]\n",
    "    return plt.legend(h, labels, **kwargs)\n"
   ]
  },
  {
   "cell_type": "code",
   "execution_count": 5,
   "id": "0062b210-b14f-4477-81ba-2ed7182e8389",
   "metadata": {
    "tags": []
   },
   "outputs": [],
   "source": [
    "def shorten_ticks():\n",
    "    for ax in plt.gcf().get_axes():\n",
    "        locs = ax.get_xticks()\n",
    "        order = ax.get_xticklabels()\n",
    "        ax.set_xticks(locs, [x.get_text().replace(\"Baleen (\", \"Baleen\\n(\") for x in order],\n",
    "           va='center', ha='right', rotation_mode='anchor', rotation=90)\n"
   ]
  },
  {
   "cell_type": "code",
   "execution_count": 6,
   "id": "414868cb-def2-4939-b19c-eaa14ca85881",
   "metadata": {
    "tags": []
   },
   "outputs": [
    {
     "ename": "ValueError",
     "evalue": "The truth value of a Series is ambiguous. Use a.empty, a.bool(), a.item(), a.any() or a.all().",
     "output_type": "error",
     "traceback": [
      "\u001b[0;31m---------------------------------------------------------------------------\u001b[0m",
      "\u001b[0;31mValueError\u001b[0m                                Traceback (most recent call last)",
      "Cell \u001b[0;32mIn[6], line 12\u001b[0m\n\u001b[1;32m     10\u001b[0m reload(processors)\n\u001b[1;32m     11\u001b[0m \u001b[38;5;66;03m# constrained_layout\u001b[39;00m\n\u001b[0;32m---> 12\u001b[0m \u001b[43mprocessors\u001b[49m\u001b[38;5;241;43m.\u001b[39;49m\u001b[43mplot_breakdowns\u001b[49m\u001b[43m(\u001b[49m\u001b[43mdtx_\u001b[49m\u001b[43m,\u001b[49m\u001b[43m \u001b[49m\u001b[43mx\u001b[49m\u001b[38;5;241;43m=\u001b[39;49m\u001b[38;5;124;43m'\u001b[39;49m\u001b[38;5;124;43mShortLabel\u001b[39;49m\u001b[38;5;124;43m'\u001b[39;49m\u001b[43m,\u001b[49m\u001b[43m \u001b[49m\u001b[43msubplots_order\u001b[49m\u001b[38;5;241;43m=\u001b[39;49m\u001b[43m[\u001b[49m\u001b[38;5;124;43m'\u001b[39;49m\u001b[38;5;124;43mRejectX\u001b[39;49m\u001b[38;5;124;43m'\u001b[39;49m\u001b[43m,\u001b[49m\u001b[43m \u001b[49m\u001b[38;5;124;43m'\u001b[39;49m\u001b[38;5;124;43mBaleen (All on Partial Hit)\u001b[39;49m\u001b[38;5;124;43m'\u001b[39;49m\u001b[43m]\u001b[49m\u001b[43m,\u001b[49m\u001b[43m \u001b[49m\u001b[38;5;66;43;03m#'Baleen (ML Prefetch)'],\u001b[39;49;00m\n\u001b[1;32m     13\u001b[0m \u001b[43m                \u001b[49m\u001b[43morder\u001b[49m\u001b[38;5;241;43m=\u001b[39;49m\u001b[38;5;28;43;01mNone\u001b[39;49;00m\u001b[43m,\u001b[49m\n\u001b[1;32m     14\u001b[0m \u001b[43m                \u001b[49m\u001b[43msample_ratio\u001b[49m\u001b[38;5;241;43m=\u001b[39;49m\u001b[38;5;241;43m.1\u001b[39;49m\u001b[43m,\u001b[49m\u001b[43m \u001b[49m\u001b[43mxperiod\u001b[49m\u001b[38;5;241;43m=\u001b[39;49m\u001b[38;5;241;43m600\u001b[39;49m\u001b[43m,\u001b[49m\n\u001b[1;32m     15\u001b[0m \u001b[43m                \u001b[49m\u001b[43mfigsize\u001b[49m\u001b[38;5;241;43m=\u001b[39;49m\u001b[43m(\u001b[49m\u001b[38;5;241;43m6.4\u001b[39;49m\u001b[43m,\u001b[49m\u001b[38;5;241;43m4.8\u001b[39;49m\u001b[38;5;241;43m*\u001b[39;49m\u001b[38;5;241;43m1.5\u001b[39;49m\u001b[43m)\u001b[49m\u001b[43m,\u001b[49m\n\u001b[1;32m     16\u001b[0m \u001b[43m                \u001b[49m\u001b[38;5;66;43;03m# max_y=60,\u001b[39;49;00m\n\u001b[1;32m     17\u001b[0m \u001b[43m                \u001b[49m\u001b[43mleg_kwargs\u001b[49m\u001b[38;5;241;43m=\u001b[39;49m\u001b[38;5;28;43mdict\u001b[39;49m\u001b[43m(\u001b[49m\u001b[43mbbox_to_anchor\u001b[49m\u001b[38;5;241;43m=\u001b[39;49m\u001b[43m[\u001b[49m\u001b[38;5;241;43m.5\u001b[39;49m\u001b[43m,\u001b[49m\u001b[43m \u001b[49m\u001b[38;5;241;43m0\u001b[39;49m\u001b[43m]\u001b[49m\u001b[43m,\u001b[49m\u001b[43m \u001b[49m\u001b[43mloc\u001b[49m\u001b[38;5;241;43m=\u001b[39;49m\u001b[38;5;124;43m'\u001b[39;49m\u001b[38;5;124;43mupper center\u001b[39;49m\u001b[38;5;124;43m'\u001b[39;49m\u001b[43m,\u001b[49m\u001b[43m \u001b[49m\u001b[43mframeon\u001b[49m\u001b[38;5;241;43m=\u001b[39;49m\u001b[38;5;28;43;01mTrue\u001b[39;49;00m\u001b[43m,\u001b[49m\u001b[43m \u001b[49m\u001b[43mfacecolor\u001b[49m\u001b[38;5;241;43m=\u001b[39;49m\u001b[38;5;124;43m'\u001b[39;49m\u001b[38;5;124;43mwhite\u001b[39;49m\u001b[38;5;124;43m'\u001b[39;49m\u001b[43m,\u001b[49m\u001b[43m \u001b[49m\u001b[43mframealpha\u001b[49m\u001b[38;5;241;43m=\u001b[39;49m\u001b[38;5;241;43m1\u001b[39;49m\u001b[43m)\u001b[49m\u001b[43m,\u001b[49m\n\u001b[1;32m     18\u001b[0m \u001b[43m                \u001b[49m\u001b[43mstack_order\u001b[49m\u001b[38;5;241;43m=\u001b[39;49m\u001b[43m[\u001b[49m\u001b[43mprocessors\u001b[49m\u001b[38;5;241;43m.\u001b[39;49m\u001b[43mstonbw_label\u001b[49m\u001b[43m,\u001b[49m\u001b[43m \u001b[49m\u001b[43mprocessors\u001b[49m\u001b[38;5;241;43m.\u001b[39;49m\u001b[43mstonpf_label\u001b[49m\u001b[43m,\u001b[49m\u001b[43m \u001b[49m\u001b[43mprocessors\u001b[49m\u001b[38;5;241;43m.\u001b[39;49m\u001b[43mstonios_label\u001b[49m\u001b[43m]\u001b[49m\u001b[43m)\u001b[49m\n\u001b[1;32m     19\u001b[0m shorten_ticks()\n\u001b[1;32m     21\u001b[0m \u001b[38;5;66;03m# savefig(\"peak_breakdowns\", \"Region1_wr-34_st-util\")\u001b[39;00m\n",
      "File \u001b[0;32m~/projects/Baleen-FAST24/notebooks/paper-figs/../../BCacheSim/episodic_analysis/plotting/processors.py:147\u001b[0m, in \u001b[0;36mplot_breakdowns\u001b[0;34m(dtx_, x, order, subplots_order, figsize, sample_ratio, xperiod, leg_kwargs, max_y, **kwargs)\u001b[0m\n\u001b[1;32m    145\u001b[0m     numcols \u001b[38;5;241m=\u001b[39m \u001b[38;5;28mlen\u001b[39m(dtx_)\n\u001b[1;32m    146\u001b[0m \u001b[38;5;28;01mif\u001b[39;00m subplots_order \u001b[38;5;129;01mis\u001b[39;00m \u001b[38;5;129;01mnot\u001b[39;00m \u001b[38;5;28;01mNone\u001b[39;00m:\n\u001b[0;32m--> 147\u001b[0m     \u001b[38;5;28;01mif\u001b[39;00m dtx_[x]\u001b[38;5;241m.\u001b[39mnunique() \u001b[38;5;241m!=\u001b[39m \u001b[38;5;28mlen\u001b[39m(dtx_):\n\u001b[1;32m    148\u001b[0m         \u001b[38;5;28mprint\u001b[39m(\u001b[38;5;124m\"\u001b[39m\u001b[38;5;124mWarning: dropping \u001b[39m\u001b[38;5;132;01m{}\u001b[39;00m\u001b[38;5;124m duplicates\u001b[39m\u001b[38;5;124m\"\u001b[39m\u001b[38;5;241m.\u001b[39mformat(\u001b[38;5;28mlen\u001b[39m(dtx_)\u001b[38;5;241m-\u001b[39mdtx_[x]\u001b[38;5;241m.\u001b[39mnunique()))\n\u001b[1;32m    149\u001b[0m         dtx_ \u001b[38;5;241m=\u001b[39m dtx_\u001b[38;5;241m.\u001b[39mdrop_duplicates(subset\u001b[38;5;241m=\u001b[39mx)\n",
      "File \u001b[0;32m~/apps/micromamba/envs/cachelib-py-3.11/lib/python3.11/site-packages/pandas/core/generic.py:1527\u001b[0m, in \u001b[0;36mNDFrame.__nonzero__\u001b[0;34m(self)\u001b[0m\n\u001b[1;32m   1525\u001b[0m \u001b[38;5;129m@final\u001b[39m\n\u001b[1;32m   1526\u001b[0m \u001b[38;5;28;01mdef\u001b[39;00m \u001b[38;5;21m__nonzero__\u001b[39m(\u001b[38;5;28mself\u001b[39m) \u001b[38;5;241m-\u001b[39m\u001b[38;5;241m>\u001b[39m NoReturn:\n\u001b[0;32m-> 1527\u001b[0m     \u001b[38;5;28;01mraise\u001b[39;00m \u001b[38;5;167;01mValueError\u001b[39;00m(\n\u001b[1;32m   1528\u001b[0m         \u001b[38;5;124mf\u001b[39m\u001b[38;5;124m\"\u001b[39m\u001b[38;5;124mThe truth value of a \u001b[39m\u001b[38;5;132;01m{\u001b[39;00m\u001b[38;5;28mtype\u001b[39m(\u001b[38;5;28mself\u001b[39m)\u001b[38;5;241m.\u001b[39m\u001b[38;5;18m__name__\u001b[39m\u001b[38;5;132;01m}\u001b[39;00m\u001b[38;5;124m is ambiguous. \u001b[39m\u001b[38;5;124m\"\u001b[39m\n\u001b[1;32m   1529\u001b[0m         \u001b[38;5;124m\"\u001b[39m\u001b[38;5;124mUse a.empty, a.bool(), a.item(), a.any() or a.all().\u001b[39m\u001b[38;5;124m\"\u001b[39m\n\u001b[1;32m   1530\u001b[0m     )\n",
      "\u001b[0;31mValueError\u001b[0m: The truth value of a Series is ambiguous. Use a.empty, a.bool(), a.item(), a.any() or a.all()."
     ]
    }
   ],
   "source": [
    "dtx = filter_df(dfc_raw, {'Region': 'Region2', 'Target Cache Size': ef.DEFAULT_CSIZE,\n",
    "                          'AdmissionPolicyLabel': ['Baleen', 'RejectX'], 'CanonTrace': True,\n",
    "                          'ShortLabel': ['RejectX', 'Baleen (No Prefetch)', 'Baleen (ML Prefetch)', 'Baleen (All on Partial Hit)'],\n",
    "                          'PracticalAP': True, 'CanonExp': True, 'DWPDNotFar': True,\n",
    "                          'Target DWPD': 7.5, 'SampleRatio': 0.1, 'SampleStart': 0})\n",
    "new_cols = dtx.apply(processors.maxstats, axis=1, result_type='expand')\n",
    "dtx_ = pd.concat([dtx, new_cols], axis='columns')\n",
    "dtx_ = dtx_.drop_duplicates(subset=['ShortLabel'])\n",
    "# TODO: Do it based on sample etc \n",
    "reload(processors)\n",
    "# constrained_layout\n",
    "processors.plot_breakdowns(dtx_, x='ShortLabel', subplots_order=['RejectX', 'Baleen (All on Partial Hit)'], #'Baleen (ML Prefetch)'],\n",
    "                order=None,\n",
    "                sample_ratio=.1, xperiod=600,\n",
    "                figsize=(6.4,4.8*1.5),\n",
    "                # max_y=60,\n",
    "                leg_kwargs=dict(bbox_to_anchor=[.5, 0], loc='upper center', frameon=True, facecolor='white', framealpha=1),\n",
    "                stack_order=[processors.stonbw_label, processors.stonpf_label, processors.stonios_label])\n",
    "shorten_ticks()\n",
    "\n",
    "# savefig(\"peak_breakdowns\", \"Region1_wr-34_st-util\")"
   ]
  },
  {
   "cell_type": "code",
   "execution_count": null,
   "id": "0ae8c69a-f909-4425-bac1-6e2404b6286e",
   "metadata": {
    "tags": []
   },
   "outputs": [],
   "source": [
    "dtx = filter_df(dfc_raw, {'Region': 'Region4', 'Target Cache Size': ef.DEFAULT_CSIZE,\n",
    "                          'AdmissionPolicyLabel': ['Baleen', 'RejectX'], 'CanonTrace': True,\n",
    "                          'ShortLabel': ['RejectX', 'Baleen (No Prefetch)', 'Baleen (ML Prefetch)', 'Baleen (All on Partial Hit)'],\n",
    "                          'PracticalAP': True, 'CanonExp': True, 'DWPDNotFar': True,\n",
    "                          'Target DWPD': 7.5, 'SampleRatio': 0.1, 'SampleStart': 0})\n",
    "new_cols = dtx.apply(processors.maxstats, axis=1, result_type='expand')\n",
    "dtx_ = pd.concat([dtx, new_cols], axis='columns')\n",
    "dtx_ = dtx_.drop_duplicates(subset=['ShortLabel'])\n",
    "# TODO: Do it based on sample etc \n",
    "reload(processors)\n",
    "# constrained_layout\n",
    "processors.plot_breakdowns(dtx_, x='ShortLabel', subplots_order=['RejectX', 'Baleen (All on Partial Hit)'], #'Baleen (ML Prefetch)'],\n",
    "                order=None,\n",
    "                sample_ratio=.1, xperiod=600,\n",
    "                figsize=(6.4,4.8*1.5),\n",
    "                # max_y=60,\n",
    "                leg_kwargs=dict(bbox_to_anchor=[.5, 0], loc='upper center', frameon=True, facecolor='white', framealpha=1),\n",
    "                stack_order=[processors.stonbw_label, processors.stonpf_label, processors.stonios_label])\n",
    "shorten_ticks()"
   ]
  }
 ],
 "metadata": {
  "kernelspec": {
   "display_name": "CPython 3.11 (CacheLib, Conda)",
   "language": "python",
   "name": "cachelib-py-3.11"
  },
  "language_info": {
   "codemirror_mode": {
    "name": "ipython",
    "version": 3
   },
   "file_extension": ".py",
   "mimetype": "text/x-python",
   "name": "python",
   "nbconvert_exporter": "python",
   "pygments_lexer": "ipython3",
   "version": "3.11.0"
  }
 },
 "nbformat": 4,
 "nbformat_minor": 5
}
