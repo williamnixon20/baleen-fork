{
 "cells": [
  {
   "cell_type": "markdown",
   "metadata": {},
   "source": [
    "# NOTICE\n",
    "Caution: This notebook has not been tested in the artifact reproduction setting but will be useful as a reference point for future research -- be prepared to modify it. \n",
    "\n",
    "Use case: For researchers intending to run more experiments in a cluster setting.\n",
    "Requirements: Brooce, redis.\n",
    "\n",
    "You may contact the authors for further questions."
   ]
  },
  {
   "cell_type": "code",
   "execution_count": 1,
   "metadata": {
    "ExecuteTime": {
     "start_time": "2023-03-09T03:48:15.338Z"
    }
   },
   "outputs": [
    {
     "name": "stdout",
     "output_type": "stream",
     "text": [
      "CPython 2024-01-16T11:09:31.175421\n"
     ]
    },
    {
     "data": {
      "text/html": [
       "<style>.container { width:100% !important; }</style>"
      ],
      "text/plain": [
       "<IPython.core.display.HTML object>"
      ]
     },
     "metadata": {},
     "output_type": "display_data"
    },
    {
     "name": "stdout",
     "output_type": "stream",
     "text": [
      "CPU times: user 884 µs, sys: 0 ns, total: 884 µs\n",
      "Wall time: 1.12 ms\n"
     ]
    }
   ],
   "source": [
    "%run ../includes/common-20230414.ipynb"
   ]
  },
  {
   "cell_type": "code",
   "execution_count": 2,
   "metadata": {
    "ExecuteTime": {
     "end_time": "2023-03-09T03:28:53.776917Z",
     "start_time": "2023-03-09T03:28:48.008837Z"
    },
    "tags": []
   },
   "outputs": [],
   "source": [
    "exp_common = dict(exp_date='20240101', group='fall24')\n",
    "base_params = {\n",
    "    **ef.csize_wrs_from_dwpds(csizes=[ef.DEFAULT_CSIZE], dwpds=[7.5, 15, 3.75, 1, 20]),\n",
    "     **ef.traces(\n",
    "         regions=[\n",
    "             '201910/Region1',\n",
    "             '201910/Region2',\n",
    "             '201910/Region3',\n",
    "             '202110/Region4',\n",
    "             '20230325/Region5',\n",
    "             '20230325/Region6',\n",
    "             '20230325/Region7',\n",
    "         ],\n",
    "         # This requires more samples to be downloaded\n",
    "         # ratios=[.1], max_samples=10, sample_start=0),\n",
    "         ratios=[.1], max_samples=1, sample_start=0),\n",
    "}"
   ]
  },
  {
   "cell_type": "code",
   "execution_count": 4,
   "metadata": {},
   "outputs": [],
   "source": [
    "# Generates samples; requires full traces to be downloaded.\n",
    "# local_cluster.ensure_samples(base_params, only_wait=False)"
   ]
  },
  {
   "cell_type": "code",
   "execution_count": 3,
   "metadata": {},
   "outputs": [
    {
     "name": "stdout",
     "output_type": "stream",
     "text": [
      "CPU times: user 6.29 s, sys: 524 ms, total: 6.81 s\n",
      "Wall time: 6.81 s\n"
     ]
    }
   ],
   "source": [
    "%%time\n",
    "df_guess = pd.read_csv('../../data/results_release.csv.gz', low_memory=False)\n",
    "all_exps = {}"
   ]
  },
  {
   "cell_type": "code",
   "execution_count": 4,
   "metadata": {
    "tags": []
   },
   "outputs": [
    {
     "name": "stdout",
     "output_type": "stream",
     "text": [
      "/users/dlwong/projects/Baleen-FAST24\n"
     ]
    }
   ],
   "source": [
    "%cd ../.."
   ]
  },
  {
   "cell_type": "code",
   "execution_count": 5,
   "metadata": {
    "ExecuteTime": {
     "end_time": "2023-03-09T03:29:30.843360Z",
     "start_time": "2023-03-09T03:29:07.590569Z"
    },
    "tags": []
   },
   "outputs": [
    {
     "data": {
      "application/vnd.jupyter.widget-view+json": {
       "model_id": "1685d11415514d9d9a6c852c147ae6bf",
       "version_major": 2,
       "version_minor": 0
      },
      "text/plain": [
       "0it [00:00, ?it/s]"
      ]
     },
     "metadata": {},
     "output_type": "display_data"
    },
    {
     "data": {
      "application/vnd.jupyter.widget-view+json": {
       "model_id": "accbbd85aaf8413a8d7d3e7519daf27f",
       "version_major": 2,
       "version_minor": 0
      },
      "text/plain": [
       "0it [00:00, ?it/s]"
      ]
     },
     "metadata": {},
     "output_type": "display_data"
    },
    {
     "data": {
      "application/vnd.jupyter.widget-view+json": {
       "model_id": "296a2e48f0d4474caa6c58773b7b6ae3",
       "version_major": 2,
       "version_minor": 0
      },
      "text/plain": [
       "0it [00:00, ?it/s]"
      ]
     },
     "metadata": {},
     "output_type": "display_data"
    },
    {
     "name": "stdout",
     "output_type": "stream",
     "text": [
      "CPU times: user 21.1 s, sys: 174 ms, total: 21.2 s\n",
      "Wall time: 21.3 s\n"
     ]
    },
    {
     "data": {
      "text/plain": [
       "<BCacheSim.episodic_analysis.exps.factory_base.ExpFactory at 0x7fa5882503d0>"
      ]
     },
     "execution_count": 5,
     "metadata": {},
     "output_type": "execute_result"
    }
   ],
   "source": [
    "%%time\n",
    "eff = ef.ExpFactory(name='alltraces', desc='All traces', **exp_common)\n",
    "eff.add_params({**ef.EXP_OPT, **ef.prefetchs(ef.PF_BASIC), **base_params})\n",
    "eff.add_params({**ef.EXP_STATIC, **ef.prefetchs(ef.PF_BASIC), **base_params})\n",
    "eff.add_params({**ef.EXP_MLNEW, **ef.prefetchs(ef.PF_BASIC), **base_params})\n",
    "eff.update(all_exps, df_guess=df_guess)"
   ]
  },
  {
   "cell_type": "code",
   "execution_count": 6,
   "metadata": {
    "ExecuteTime": {
     "end_time": "2023-03-09T03:13:37.117767Z",
     "start_time": "2023-03-09T03:13:36.963658Z"
    },
    "tags": []
   },
   "outputs": [
    {
     "data": {
      "text/plain": [
       "(700, dict_keys(['20240101_alltraces']))"
      ]
     },
     "execution_count": 6,
     "metadata": {},
     "output_type": "execute_result"
    }
   ],
   "source": [
    "all_exps_ = list(flatten(all_exps.values()))\n",
    "len(all_exps_), all_exps.keys()#, all_exps"
   ]
  },
  {
   "cell_type": "code",
   "execution_count": null,
   "metadata": {
    "tags": []
   },
   "outputs": [],
   "source": [
    "# Useful if experiments failed\n",
    "# monitor.relaunch(all_exps)"
   ]
  },
  {
   "cell_type": "code",
   "execution_count": null,
   "metadata": {
    "ExecuteTime": {
     "start_time": "2023-03-08T21:43:49.136Z"
    }
   },
   "outputs": [],
   "source": [
    "monitor.save(all_exps)\n",
    "monitor.run_exps(all_exps, relaunch_stale=True, queue='par4', top=False, displayer=None, limit_running_exps=400)"
   ]
  }
 ],
 "metadata": {
  "kernelspec": {
   "display_name": "CPython 3.11 (CacheLib, Conda)",
   "language": "python",
   "name": "cachelib-py-3.11"
  },
  "language_info": {
   "codemirror_mode": {
    "name": "ipython",
    "version": 3
   },
   "file_extension": ".py",
   "mimetype": "text/x-python",
   "name": "python",
   "nbconvert_exporter": "python",
   "pygments_lexer": "ipython3",
   "version": "3.11.0"
  },
  "toc-showtags": false
 },
 "nbformat": 4,
 "nbformat_minor": 4
}
