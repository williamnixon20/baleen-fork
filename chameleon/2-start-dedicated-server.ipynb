{
 "cells": [
  {
   "cell_type": "markdown",
   "id": "4d8184f7-559a-4fdb-a66d-f69d2c38c6c6",
   "metadata": {},
   "source": [
    "# Note from Baleen authors\n",
    "\n",
    "You can skip this and use the shared JupyterHub alone to run the simple tests and plotting, but if you would like to reproduce Baleen's results more extensively, you will need at least a dedicated server, if not a cluster.\n",
    "\n",
    "Use this notebook to reserve and set up a dedicated server (otherwise, you will be using the shared JupyterHub with very limited storage and CPU constraints). This notebook is modified from the Jupyter artifact -- any modifications are labelled with \"BALEEN-SPECIFIC\" comments."
   ]
  },
  {
   "cell_type": "markdown",
   "id": "31e1deff-9cc1-43bd-90e3-034edf1c6751",
   "metadata": {},
   "source": [
    "# Jupyter Notebook\n",
    "\n",
    "A Jupyter notebook is what you're looking at right now. It contains a mix of Markdown and code, which is a great interface for annotating code and allowing it to be run interactively. This notebook is (probably) running on Chameleon's JupyterHub server. This means that the code is being executed on a very resource-light instance which is only designed to interface with Chameleon APIs. \n",
    "\n",
    "Because Jupyter notebooks are such a great way to present experiment code with results and documentation, it makes sense that one would want to execute their experimen's code from within a Jupyter notebook _directly_ on a powerful compute host. That is what this notebook accomplishes!\n",
    "\n",
    "## Steps\n",
    "1. Reserve a node for your experiments\n",
    "2. Create an instance on that node\n",
    "3. Spawn a Jupyter server on that instance\n",
    "4. Connect to that Jupyter server"
   ]
  },
  {
   "cell_type": "markdown",
   "id": "f3778de1-1529-497f-bfd4-baaef1ad699c",
   "metadata": {},
   "source": [
    "## Experiment configuration\n",
    "\n",
    "We'll be running this server on a single node. The node will still be able to connect to other nodes on the same network if your experiment requires multiple nodes. Because this setup is so simple, you can configure the variables below to any valid configuration you want."
   ]
  },
  {
   "cell_type": "code",
   "execution_count": 1,
   "id": "792ae6c6-1911-46e8-af85-968b059387ea",
   "metadata": {},
   "outputs": [],
   "source": [
    "import os\n",
    "\n",
    "project_name = \"CHI-231080\" # Change this if necessary\n",
    "site_name = \"CHI@TACC\"\n",
    "node_type = \"compute_cascadelake_r\"\n",
    "image_name = \"CC-Ubuntu22.04\"\n",
    "network_name = \"sharednet1\"\n",
    "\n",
    "user = os.getenv(\"USER\")\n",
    "# Leases can be between 1 and 7 days\n",
    "lease_length = 7\n",
    "lease_name = f\"{user}-jupyter-server\""
   ]
  },
  {
   "cell_type": "markdown",
   "id": "156bde30-a43b-461d-a4d2-8a07eefcdd82",
   "metadata": {},
   "source": [
    "With this configuration, we'll log into Chameleon so we can start provisioning our resources"
   ]
  },
  {
   "cell_type": "code",
   "execution_count": 2,
   "id": "04b88fde-d941-45be-83bb-490fef4f5f05",
   "metadata": {},
   "outputs": [
    {
     "name": "stdout",
     "output_type": "stream",
     "text": [
      "Now using CHI@TACC:\n",
      "URL: https://chi.tacc.chameleoncloud.org\n",
      "Location: Austin, Texas, USA\n",
      "Support contact: help@chameleoncloud.org\n"
     ]
    }
   ],
   "source": [
    "import chi\n",
    "\n",
    "chi.use_site(site_name)\n",
    "chi.set(\"project_name\", project_name)"
   ]
  },
  {
   "cell_type": "markdown",
   "id": "78e825fc-9e33-40c0-b683-f2729bd2a142",
   "metadata": {},
   "source": [
    "## Reserve a host\n",
    "\n",
    "With our configuration, let's reserve a host to run our notebook server on."
   ]
  },
  {
   "cell_type": "code",
   "execution_count": null,
   "id": "cc710e66-c763-4f3e-9ac9-dec4c26e4154",
   "metadata": {},
   "outputs": [],
   "source": [
    "import chi.lease\n",
    "\n",
    "# Reserve a host for the Jupyter server\n",
    "reservation = []\n",
    "chi.lease.add_node_reservation(\n",
    "    reservation,\n",
    "    node_type=node_type,\n",
    "    count=1\n",
    ")\n",
    "# We need to use a floating IP \n",
    "# in order to access the Jupyter server from the computer you're using\n",
    "chi.lease.add_fip_reservation(reservation, count=1)\n",
    "\n",
    "start_date, end_date = chi.lease.lease_duration(days=lease_length)\n",
    "\n",
    "# Create the lease on Chameleon\n",
    "print(\"Submitting lease...\")\n",
    "lease = chi.lease.create_lease(\n",
    "    lease_name,\n",
    "    reservation,\n",
    "    start_date=start_date,\n",
    "    end_date=end_date\n",
    ")\n",
    "print(\"Waiting for lease to become active...\")\n",
    "lease = chi.lease.wait_for_active(lease[\"id\"])\n",
    "print(\"Lease is active!\")\n",
    "lease"
   ]
  },
  {
   "cell_type": "markdown",
   "id": "3cf68658-15c7-4b01-a2cd-5c097d207a40",
   "metadata": {},
   "source": [
    "## Spawning an instance\n",
    "\n",
    "With our resources in hand, we'll spawn an instance to run the Jupyter server on.\n",
    "\n",
    "In order to connect to the server from the computer you're using right now, you'll need to set up an SSH keypair on Chameleon. If you haven't done this yet, please check out [the docs](https://chameleoncloud.readthedocs.io/en/latest/getting-started/index.html#accessing-your-instance)."
   ]
  },
  {
   "cell_type": "code",
   "execution_count": null,
   "id": "5dca1cb7-8980-4394-9f27-71587fa9fda8",
   "metadata": {},
   "outputs": [],
   "source": [
    "import chi.network\n",
    "import chi.server\n",
    "\n",
    "network_id = chi.network.get_network_id(network_name)\n",
    "server_name = f\"{user}-jupyter-notebook-server\"\n",
    "node_reservation = chi.lease.get_node_reservation(\n",
    "    lease[\"id\"], \n",
    "    node_type=node_type,\n",
    "    count=1,\n",
    ")\n",
    "print(f\"Spawning server at {site_name}...\")\n",
    "notebook_server = chi.server.create_server(\n",
    "    server_name,\n",
    "    reservation_id=node_reservation,\n",
    "    image_name=image_name,\n",
    "    network_id=network_id,\n",
    "    count=1,\n",
    ")\n",
    "print(\"Waiting for server to become active...\")\n",
    "chi.server.wait_for_active(notebook_server.id)\n",
    "print(f\"Server at {site_name} is active!\")"
   ]
  },
  {
   "cell_type": "markdown",
   "id": "a06e55dc-23fe-4b7f-a306-34e4aaa79259",
   "metadata": {},
   "source": [
    "We've created a server to run Jupyter on. In order to interact with the server from here on out, we'll need to connect via SSH over a floating IP address. So let's assign the floating IP we reserved and wait for SSH to be available."
   ]
  },
  {
   "cell_type": "code",
   "execution_count": null,
   "id": "33f40dfc-ba86-4a39-b39a-adf14d76455b",
   "metadata": {},
   "outputs": [],
   "source": [
    "floating_ip = chi.lease.get_reserved_floating_ips(lease[\"id\"])[0]\n",
    "chi.server.associate_floating_ip(notebook_server.id, floating_ip)\n",
    "print(\"Associated floating IP with server.\")\n",
    "print(\"Waiting for SSH to become active...\")\n",
    "chi.server.wait_for_tcp(floating_ip, port=22)\n",
    "print(f\"Notebook server now accessible via SSH at {floating_ip}\")"
   ]
  },
  {
   "cell_type": "markdown",
   "id": "a2e9b052-01b3-4ee7-a921-9d0889a8143f",
   "metadata": {},
   "source": [
    "## Connecting to the server\n",
    "\n",
    "Now that we can access the server, let's connect to it so that we can install Jupyter."
   ]
  },
  {
   "cell_type": "code",
   "execution_count": null,
   "id": "d169f32b-9441-4dc1-94ac-171d1754e105",
   "metadata": {},
   "outputs": [],
   "source": [
    "import chi.ssh\n",
    "\n",
    "remote = chi.ssh.Remote(floating_ip)\n",
    "remote.run(\"echo Hello from $(hostname)!\")"
   ]
  },
  {
   "cell_type": "markdown",
   "id": "1db0ebdb-9945-409d-b97b-a4a5eeac9bc7",
   "metadata": {},
   "source": [
    "## Setting up Jupyter\n",
    "\n",
    "Now that the server is ready, we will install and configure Jupyter.ipynb_checkpoints/"
   ]
  },
  {
   "cell_type": "code",
   "execution_count": null,
   "id": "e45eb25a-b338-41a4-a79c-f2d5d0de7ec5",
   "metadata": {},
   "outputs": [],
   "source": [
    "# Install Jupyter package\n",
    "if image_name.lower().startswith(\"cc-ubuntu\"):\n",
    "    remote.run(\"sudo apt update && sudo apt install -y jupyter-notebook python3-jupyterlab-server\")\n",
    "else:\n",
    "    remote.run(\"python3 -m pip install --upgrade pip && python3 -m pip install jupyter jupyterlab\")"
   ]
  },
  {
   "cell_type": "code",
   "execution_count": null,
   "id": "7314d34b-2727-4400-90db-0105aa36496c",
   "metadata": {},
   "outputs": [],
   "source": [
    "# BALEEN-SPECIFIC\n",
    "remote.run(\"git clone --recurse-submodules https://github.com/wonglkd/Baleen-FAST24.git\")"
   ]
  },
  {
   "cell_type": "code",
   "execution_count": null,
   "id": "174dedf5-c542-49f5-9d4b-d34f0284a417",
   "metadata": {},
   "outputs": [],
   "source": [
    "# BALEEN-SPECIFIC\n",
    "remote.run(\"python3 -m pip install --user -r Baleen-FAST24/BCacheSim/install/requirements.txt\")"
   ]
  },
  {
   "cell_type": "code",
   "execution_count": null,
   "id": "530ba078-cbf7-4793-bea2-e77f1fda3b07",
   "metadata": {},
   "outputs": [],
   "source": [
    "# Generate config\n",
    "remote.run(\"which jupyter\")"
   ]
  },
  {
   "cell_type": "code",
   "execution_count": null,
   "id": "25f6bdde-1e35-4fd9-be34-b61f4477da17",
   "metadata": {},
   "outputs": [],
   "source": [
    "# Generate config\n",
    "remote.run(\"jupyter notebook --generate-config\")"
   ]
  },
  {
   "cell_type": "markdown",
   "id": "07d7c82a-7ddf-4b76-9d4c-0857e4576419",
   "metadata": {},
   "source": [
    "### Creating a Jupyter service\n",
    "\n",
    "In order to have Jupyter run in the background and not interrupt the rest of this notebook, we'll install it as a service rather than run it directly."
   ]
  },
  {
   "cell_type": "code",
   "execution_count": null,
   "id": "56ef9e08-80fa-4bd2-9e45-0b3a9036ae07",
   "metadata": {},
   "outputs": [],
   "source": [
    "# Copy the systemd service manifest onto the server\n",
    "remote.put(\"jupyter.service\")\n",
    "remote.run(\"sudo mv jupyter.service /etc/systemd/system\")"
   ]
  },
  {
   "cell_type": "code",
   "execution_count": null,
   "id": "eeda7bca-8751-4b22-a8a8-ae842fe28c40",
   "metadata": {},
   "outputs": [],
   "source": [
    "# Start the service\n",
    "remote.run(\"sudo systemctl daemon-reload\")\n",
    "remote.run(\"sudo systemctl enable jupyter.service\")\n",
    "remote.run(\"sudo systemctl start jupyter.service\")"
   ]
  },
  {
   "cell_type": "markdown",
   "id": "d3dd68b7-d355-4fff-adff-63fa04c5ca1b",
   "metadata": {},
   "source": [
    "### Connecting to the server securely\n",
    "\n",
    "**PLEASE READ, DO NOT IGNORE**\n",
    "\n",
    "The server we've set up is in a **very insecure** configuration. This, however, is fine, because it is only accepting connections from the host it's running on. This means that random people on the internet can't connect to it and exploit it. In order to maintain this security, it's imperative that you adhere to the following rules:\n",
    "\n",
    "1. **DO NOT, UNDER ANY CIRCUMSTANCES, MODIFY THE FIREWALL**\n",
    "2. **DO NOT, UNDER ANY CIRCUMSTANCES, CHANGE THE PORT, IP, OR HOST THAT THE JUPYTER SERVER IS LISTENING ON**\n",
    "\n",
    "If you do this, you may allow malicious actors to gain access to your Jupyter server, which will allow them to take complete control over your instance. They will absolutely ruin your experiment in order to mine Bitcoin and seed torrents. Your server will be found and exploited very quickly if you make bad changes to the configuration. If this notebook is having issues, and you're not sure you can fix it in a secure way, please submit a ticket to the Chameleon help desk.\n",
    "\n",
    "However, if we block anyone from connecting to the server remotely, how will we use it?\n",
    "\n",
    "Via an [SSH tunnel](https://www.ssh.com/academy/ssh/tunneling)! We will create a secure, encrypted tunnel to the Jupyter host, which will allow us to connect to the notebook server as if we are on the same host. This is the most secure way to remotely access services on Chameleon."
   ]
  },
  {
   "cell_type": "markdown",
   "id": "d28339f9-e649-4ea6-b8b8-4659186f5ee0",
   "metadata": {
    "tags": []
   },
   "source": [
    "#### Creating an SSH tunnel\n",
    "\n",
    "First upload a SSH key to this folder. You can generate one with the command: `ssh-keygen -t rsa -b 4096`\n",
    "\n",
    "Then open a terminal **on your local machine, not the Jupyter interface**, and run the command output by the cell below:"
   ]
  },
  {
   "cell_type": "code",
   "execution_count": null,
   "id": "52f2c78b-b9e2-4a32-ada5-37d0bf5445e8",
   "metadata": {},
   "outputs": [],
   "source": [
    "print(f\"ssh -NT -o ServerAliveInterval=60 -L 8888:localhost:8888 cc@{floating_ip} -i <path/to/sshkey>\")"
   ]
  },
  {
   "cell_type": "markdown",
   "id": "85bf8518-6222-43ca-9907-5c14f800a9e9",
   "metadata": {},
   "source": [
    "If the above command didn't work, it's probably because you did not upload your local machine's SSH key to Chameleon. If that's the case, upload `~/.ssh/id_rsa.pub` to the same folder as this notebook, and run the cell below."
   ]
  },
  {
   "cell_type": "code",
   "execution_count": null,
   "id": "a8f28049-8235-4e1e-b65a-f790f0015c6a",
   "metadata": {},
   "outputs": [],
   "source": [
    "# You may also use this command to open a terminal to the server\n",
    "print(f\"ssh cc@{floating_ip} -i <path/to/sshkey>\")"
   ]
  },
  {
   "cell_type": "code",
   "execution_count": null,
   "id": "c3773446-45cb-4fba-bbf3-afd6c1757c6e",
   "metadata": {},
   "outputs": [],
   "source": [
    "import os\n",
    "\n",
    "local_keyfile_path = \"./id_rsa.pub\"\n",
    "if os.path.exists(local_keyfile_path):\n",
    "    remote.put(local_keyfile_path, \"/tmp/id_rsa.pub\")\n",
    "    remote.run(\"cat /tmp/id_rsa.pub >> ~/.ssh/authorized_keys\")\n",
    "    print(\"Loaded SSH key onto remote host\")\n",
    "else:\n",
    "    print(\"No key uploaded. Skipping\")"
   ]
  },
  {
   "cell_type": "markdown",
   "id": "ab5b2ffc-023c-4095-9656-3fb60a88adcf",
   "metadata": {},
   "source": [
    "If you're able to run the `ssh` command from above without it exiting with an error, then you have successfully created an SSH tunnel! Now, you will be able to _securely_ access your Jupyter server at [http://localhost:8888](http://localhost:8888)."
   ]
  },
  {
   "cell_type": "markdown",
   "id": "4aa8f281-07ac-4527-99d5-9578955e7825",
   "metadata": {},
   "source": [
    "## Teardown\n",
    "\n",
    "When we're done with the host we've loaded Jupyter on, we can free the resources we've reserved.\n",
    "\n",
    "**Warning: This will permanently delete your instance and all the data on it. Only do this if you've ensured that your work has been backed up.**\n",
    "\n",
    "We usually recommend experiment data be backed up to the [object store](https://chameleoncloud.readthedocs.io/en/latest/technical/swift.html)."
   ]
  },
  {
   "cell_type": "code",
   "execution_count": 16,
   "id": "5734b2ea-e70c-44d8-9654-7810daba784f",
   "metadata": {},
   "outputs": [],
   "source": [
    "do_teardown = False\n",
    "\n",
    "if do_teardown:\n",
    "    chi.lease.delete_lease(lease[\"id\"])"
   ]
  }
 ],
 "metadata": {
  "kernelspec": {
   "display_name": "Python 3 (ipykernel)",
   "language": "python",
   "name": "python3"
  },
  "language_info": {
   "codemirror_mode": {
    "name": "ipython",
    "version": 3
   },
   "file_extension": ".py",
   "mimetype": "text/x-python",
   "name": "python",
   "nbconvert_exporter": "python",
   "pygments_lexer": "ipython3",
   "version": "3.10.9"
  }
 },
 "nbformat": 4,
 "nbformat_minor": 5
}
